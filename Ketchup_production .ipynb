{
 "cells": [
  {
   "cell_type": "markdown",
   "metadata": {},
   "source": [
    "# Первый подход. Построение VAR-модели"
   ]
  },
  {
   "cell_type": "code",
   "execution_count": 1,
   "metadata": {},
   "outputs": [
    {
     "name": "stderr",
     "output_type": "stream",
     "text": [
      "Warning message:\n",
      "\"package 'readxl' was built under R version 3.6.3\"\n"
     ]
    }
   ],
   "source": [
    "library(readxl)"
   ]
  },
  {
   "cell_type": "code",
   "execution_count": 2,
   "metadata": {
    "collapsed": true
   },
   "outputs": [
    {
     "name": "stderr",
     "output_type": "stream",
     "text": [
      "Warning message:\n",
      "\"package 'tseries' was built under R version 3.6.3\"\n",
      "Registered S3 method overwritten by 'quantmod':\n",
      "  method            from\n",
      "  as.zoo.data.frame zoo \n",
      "\n"
     ]
    }
   ],
   "source": [
    "library(tseries)"
   ]
  },
  {
   "cell_type": "code",
   "execution_count": 3,
   "metadata": {
    "collapsed": true
   },
   "outputs": [
    {
     "name": "stderr",
     "output_type": "stream",
     "text": [
      "Warning message:\n",
      "\"package 'vars' was built under R version 3.6.3\"\n",
      "Loading required package: MASS\n",
      "\n",
      "Warning message:\n",
      "\"package 'MASS' was built under R version 3.6.3\"\n",
      "Loading required package: strucchange\n",
      "\n",
      "Warning message:\n",
      "\"package 'strucchange' was built under R version 3.6.3\"\n",
      "Loading required package: zoo\n",
      "\n",
      "Warning message:\n",
      "\"package 'zoo' was built under R version 3.6.3\"\n",
      "\n",
      "Attaching package: 'zoo'\n",
      "\n",
      "\n",
      "The following objects are masked from 'package:base':\n",
      "\n",
      "    as.Date, as.Date.numeric\n",
      "\n",
      "\n",
      "Loading required package: sandwich\n",
      "\n",
      "Warning message:\n",
      "\"package 'sandwich' was built under R version 3.6.3\"\n",
      "Loading required package: urca\n",
      "\n",
      "Warning message:\n",
      "\"package 'urca' was built under R version 3.6.3\"\n",
      "Loading required package: lmtest\n",
      "\n",
      "Warning message:\n",
      "\"package 'lmtest' was built under R version 3.6.3\"\n"
     ]
    }
   ],
   "source": [
    "library(vars)"
   ]
  },
  {
   "cell_type": "code",
   "execution_count": 4,
   "metadata": {
    "collapsed": true
   },
   "outputs": [
    {
     "name": "stderr",
     "output_type": "stream",
     "text": [
      "New names:\n",
      "* `` -> ...1\n",
      "* `` -> ...2\n",
      "\n"
     ]
    }
   ],
   "source": [
    "prod <- read_excel('prod.xlsx')"
   ]
  },
  {
   "cell_type": "code",
   "execution_count": 5,
   "metadata": {},
   "outputs": [
    {
     "data": {
      "text/html": [
       "<table>\n",
       "<caption>A tibble: 6 × 11</caption>\n",
       "<thead>\n",
       "\t<tr><th scope=col>...1</th><th scope=col>...2</th><th scope=col>Российская Федерация</th><th scope=col>Центральный федеральный округ</th><th scope=col>Северо-Западный федеральный округ</th><th scope=col>Южный федеральный округ (с 2010 года)</th><th scope=col>Северо-Кавказский федеральный округ</th><th scope=col>Приволжский федеральный округ</th><th scope=col>Уральский федеральный округ</th><th scope=col>Сибирский федеральный округ</th><th scope=col>Дальневосточный федеральный округ</th></tr>\n",
       "\t<tr><th scope=col>&lt;dbl&gt;</th><th scope=col>&lt;chr&gt;</th><th scope=col>&lt;dbl&gt;</th><th scope=col>&lt;dbl&gt;</th><th scope=col>&lt;dbl&gt;</th><th scope=col>&lt;dbl&gt;</th><th scope=col>&lt;dbl&gt;</th><th scope=col>&lt;dbl&gt;</th><th scope=col>&lt;dbl&gt;</th><th scope=col>&lt;dbl&gt;</th><th scope=col>&lt;dbl&gt;</th></tr>\n",
       "</thead>\n",
       "<tbody>\n",
       "\t<tr><td>2010</td><td>январь </td><td>23633.50</td><td>4643.72</td><td>6157.86</td><td>2859.66</td><td>51.5</td><td> 8121.08</td><td> 676.87</td><td>1120.35</td><td>2.46</td></tr>\n",
       "\t<tr><td>2010</td><td>февраль</td><td>29356.62</td><td>5109.21</td><td>6458.86</td><td>3965.21</td><td>51.3</td><td>11489.80</td><td> 869.32</td><td>1405.82</td><td>7.10</td></tr>\n",
       "\t<tr><td>2010</td><td>март   </td><td>33110.96</td><td>6135.16</td><td>6398.24</td><td>3289.99</td><td>56.0</td><td>14390.25</td><td>1078.76</td><td>1754.36</td><td>8.20</td></tr>\n",
       "\t<tr><td>2010</td><td>апрель </td><td>37564.98</td><td>5379.90</td><td>7486.37</td><td>4439.62</td><td>52.7</td><td>17546.26</td><td> 853.28</td><td>1797.31</td><td>9.54</td></tr>\n",
       "\t<tr><td>2010</td><td>май    </td><td>39503.23</td><td>4743.13</td><td>7788.25</td><td>4577.10</td><td>63.8</td><td>19384.14</td><td>1297.97</td><td>1640.39</td><td>8.45</td></tr>\n",
       "\t<tr><td>2010</td><td>июнь   </td><td>38189.64</td><td>5000.94</td><td>8064.54</td><td>3610.93</td><td>50.4</td><td>18159.24</td><td>1136.43</td><td>2158.08</td><td>9.08</td></tr>\n",
       "</tbody>\n",
       "</table>\n"
      ],
      "text/latex": [
       "A tibble: 6 × 11\n",
       "\\begin{tabular}{lllllllllll}\n",
       " ...1 & ...2 & Российская Федерация & Центральный федеральный округ & Северо-Западный федеральный округ & Южный федеральный округ (с 2010 года) & Северо-Кавказский федеральный округ & Приволжский федеральный округ & Уральский федеральный округ & Сибирский федеральный округ & Дальневосточный федеральный округ\\\\\n",
       " <dbl> & <chr> & <dbl> & <dbl> & <dbl> & <dbl> & <dbl> & <dbl> & <dbl> & <dbl> & <dbl>\\\\\n",
       "\\hline\n",
       "\t 2010 & январь  & 23633.50 & 4643.72 & 6157.86 & 2859.66 & 51.5 &  8121.08 &  676.87 & 1120.35 & 2.46\\\\\n",
       "\t 2010 & февраль & 29356.62 & 5109.21 & 6458.86 & 3965.21 & 51.3 & 11489.80 &  869.32 & 1405.82 & 7.10\\\\\n",
       "\t 2010 & март    & 33110.96 & 6135.16 & 6398.24 & 3289.99 & 56.0 & 14390.25 & 1078.76 & 1754.36 & 8.20\\\\\n",
       "\t 2010 & апрель  & 37564.98 & 5379.90 & 7486.37 & 4439.62 & 52.7 & 17546.26 &  853.28 & 1797.31 & 9.54\\\\\n",
       "\t 2010 & май     & 39503.23 & 4743.13 & 7788.25 & 4577.10 & 63.8 & 19384.14 & 1297.97 & 1640.39 & 8.45\\\\\n",
       "\t 2010 & июнь    & 38189.64 & 5000.94 & 8064.54 & 3610.93 & 50.4 & 18159.24 & 1136.43 & 2158.08 & 9.08\\\\\n",
       "\\end{tabular}\n"
      ],
      "text/markdown": [
       "\n",
       "A tibble: 6 × 11\n",
       "\n",
       "| ...1 &lt;dbl&gt; | ...2 &lt;chr&gt; | Российская Федерация &lt;dbl&gt; | Центральный федеральный округ &lt;dbl&gt; | Северо-Западный федеральный округ &lt;dbl&gt; | Южный федеральный округ (с 2010 года) &lt;dbl&gt; | Северо-Кавказский федеральный округ &lt;dbl&gt; | Приволжский федеральный округ &lt;dbl&gt; | Уральский федеральный округ &lt;dbl&gt; | Сибирский федеральный округ &lt;dbl&gt; | Дальневосточный федеральный округ &lt;dbl&gt; |\n",
       "|---|---|---|---|---|---|---|---|---|---|---|\n",
       "| 2010 | январь  | 23633.50 | 4643.72 | 6157.86 | 2859.66 | 51.5 |  8121.08 |  676.87 | 1120.35 | 2.46 |\n",
       "| 2010 | февраль | 29356.62 | 5109.21 | 6458.86 | 3965.21 | 51.3 | 11489.80 |  869.32 | 1405.82 | 7.10 |\n",
       "| 2010 | март    | 33110.96 | 6135.16 | 6398.24 | 3289.99 | 56.0 | 14390.25 | 1078.76 | 1754.36 | 8.20 |\n",
       "| 2010 | апрель  | 37564.98 | 5379.90 | 7486.37 | 4439.62 | 52.7 | 17546.26 |  853.28 | 1797.31 | 9.54 |\n",
       "| 2010 | май     | 39503.23 | 4743.13 | 7788.25 | 4577.10 | 63.8 | 19384.14 | 1297.97 | 1640.39 | 8.45 |\n",
       "| 2010 | июнь    | 38189.64 | 5000.94 | 8064.54 | 3610.93 | 50.4 | 18159.24 | 1136.43 | 2158.08 | 9.08 |\n",
       "\n"
      ],
      "text/plain": [
       "  ...1 ...2    Российская Федерация Центральный федеральный округ\n",
       "1 2010 январь  23633.50             4643.72                      \n",
       "2 2010 февраль 29356.62             5109.21                      \n",
       "3 2010 март    33110.96             6135.16                      \n",
       "4 2010 апрель  37564.98             5379.90                      \n",
       "5 2010 май     39503.23             4743.13                      \n",
       "6 2010 июнь    38189.64             5000.94                      \n",
       "  Северо-Западный федеральный округ Южный федеральный округ (с 2010 года)\n",
       "1 6157.86                           2859.66                              \n",
       "2 6458.86                           3965.21                              \n",
       "3 6398.24                           3289.99                              \n",
       "4 7486.37                           4439.62                              \n",
       "5 7788.25                           4577.10                              \n",
       "6 8064.54                           3610.93                              \n",
       "  Северо-Кавказский федеральный округ Приволжский федеральный округ\n",
       "1 51.5                                 8121.08                     \n",
       "2 51.3                                11489.80                     \n",
       "3 56.0                                14390.25                     \n",
       "4 52.7                                17546.26                     \n",
       "5 63.8                                19384.14                     \n",
       "6 50.4                                18159.24                     \n",
       "  Уральский федеральный округ Сибирский федеральный округ\n",
       "1  676.87                     1120.35                    \n",
       "2  869.32                     1405.82                    \n",
       "3 1078.76                     1754.36                    \n",
       "4  853.28                     1797.31                    \n",
       "5 1297.97                     1640.39                    \n",
       "6 1136.43                     2158.08                    \n",
       "  Дальневосточный федеральный округ\n",
       "1 2.46                             \n",
       "2 7.10                             \n",
       "3 8.20                             \n",
       "4 9.54                             \n",
       "5 8.45                             \n",
       "6 9.08                             "
      ]
     },
     "metadata": {},
     "output_type": "display_data"
    }
   ],
   "source": [
    "head(prod)"
   ]
  },
  {
   "cell_type": "code",
   "execution_count": 6,
   "metadata": {},
   "outputs": [],
   "source": [
    "prod <- prod[,-c(1,2,3)]"
   ]
  },
  {
   "cell_type": "code",
   "execution_count": 7,
   "metadata": {
    "scrolled": true
   },
   "outputs": [],
   "source": [
    "prod <- as.ts(prod)"
   ]
  },
  {
   "cell_type": "code",
   "execution_count": 8,
   "metadata": {},
   "outputs": [
    {
     "name": "stdout",
     "output_type": "stream",
     "text": [
      "[1] 0.4945066\n",
      "[1] 0.02911985\n",
      "[1] 0.4329351\n",
      "[1] 0.1602\n"
     ]
    },
    {
     "name": "stderr",
     "output_type": "stream",
     "text": [
      "Warning message in adf.test(prod[, i]):\n",
      "\"p-value smaller than printed p-value\"\n"
     ]
    },
    {
     "name": "stdout",
     "output_type": "stream",
     "text": [
      "[1] 0.01\n",
      "[1] 0.03011715\n",
      "[1] 0.2843926\n",
      "[1] 0.1099476\n"
     ]
    }
   ],
   "source": [
    "for (i in 1:ncol(prod)) {\n",
    "t <- adf.test(prod[,i])\n",
    "print(t$p.value)\n",
    "}"
   ]
  },
  {
   "cell_type": "markdown",
   "metadata": {},
   "source": [
    "### Не все ряды стационарны, буду брать лог-доходности "
   ]
  },
  {
   "cell_type": "code",
   "execution_count": 9,
   "metadata": {},
   "outputs": [],
   "source": [
    "first_row <- prod[1,]"
   ]
  },
  {
   "cell_type": "code",
   "execution_count": 10,
   "metadata": {},
   "outputs": [],
   "source": [
    "prod <- diff(log(prod))"
   ]
  },
  {
   "cell_type": "code",
   "execution_count": 11,
   "metadata": {
    "scrolled": true
   },
   "outputs": [
    {
     "data": {
      "text/html": [
       "<table>\n",
       "<caption>A matrix: 6 × 8 of type dbl</caption>\n",
       "<thead>\n",
       "\t<tr><th scope=col>Центральный федеральный округ</th><th scope=col>Северо-Западный федеральный округ</th><th scope=col>Южный федеральный округ (с 2010 года)</th><th scope=col>Северо-Кавказский федеральный округ</th><th scope=col>Приволжский федеральный округ</th><th scope=col>Уральский федеральный округ</th><th scope=col>Сибирский федеральный округ</th><th scope=col>Дальневосточный федеральный округ</th></tr>\n",
       "</thead>\n",
       "<tbody>\n",
       "\t<tr><td> 0.09552902</td><td> 0.047723517</td><td> 0.32685608</td><td>-0.003891055</td><td> 0.346996535</td><td> 0.25023207</td><td> 0.22697963</td><td> 1.05993343</td></tr>\n",
       "\t<tr><td> 0.18299136</td><td>-0.009429879</td><td>-0.18667429</td><td> 0.087660939</td><td> 0.225091209</td><td> 0.21585622</td><td> 0.22148336</td><td> 0.14403937</td></tr>\n",
       "\t<tr><td>-0.13136637</td><td> 0.157061081</td><td> 0.29968426</td><td>-0.060736235</td><td> 0.198289928</td><td>-0.23447977</td><td> 0.02418698</td><td> 0.15135933</td></tr>\n",
       "\t<tr><td>-0.12597253</td><td> 0.039532154</td><td> 0.03049682</td><td> 0.191137735</td><td> 0.099614384</td><td> 0.41946904</td><td>-0.09135708</td><td>-0.12132704</td></tr>\n",
       "\t<tr><td> 0.05292864</td><td> 0.034860486</td><td>-0.23710025</td><td>-0.235762015</td><td>-0.065275684</td><td>-0.13290974</td><td> 0.27428492</td><td> 0.07190775</td></tr>\n",
       "\t<tr><td> 0.01690313</td><td>-0.031226996</td><td> 0.10195643</td><td> 0.348306694</td><td> 0.000393111</td><td> 0.06217472</td><td>-0.36836444</td><td>-0.17006221</td></tr>\n",
       "</tbody>\n",
       "</table>\n"
      ],
      "text/latex": [
       "A matrix: 6 × 8 of type dbl\n",
       "\\begin{tabular}{llllllll}\n",
       " Центральный федеральный округ & Северо-Западный федеральный округ & Южный федеральный округ (с 2010 года) & Северо-Кавказский федеральный округ & Приволжский федеральный округ & Уральский федеральный округ & Сибирский федеральный округ & Дальневосточный федеральный округ\\\\\n",
       "\\hline\n",
       "\t  0.09552902 &  0.047723517 &  0.32685608 & -0.003891055 &  0.346996535 &  0.25023207 &  0.22697963 &  1.05993343\\\\\n",
       "\t  0.18299136 & -0.009429879 & -0.18667429 &  0.087660939 &  0.225091209 &  0.21585622 &  0.22148336 &  0.14403937\\\\\n",
       "\t -0.13136637 &  0.157061081 &  0.29968426 & -0.060736235 &  0.198289928 & -0.23447977 &  0.02418698 &  0.15135933\\\\\n",
       "\t -0.12597253 &  0.039532154 &  0.03049682 &  0.191137735 &  0.099614384 &  0.41946904 & -0.09135708 & -0.12132704\\\\\n",
       "\t  0.05292864 &  0.034860486 & -0.23710025 & -0.235762015 & -0.065275684 & -0.13290974 &  0.27428492 &  0.07190775\\\\\n",
       "\t  0.01690313 & -0.031226996 &  0.10195643 &  0.348306694 &  0.000393111 &  0.06217472 & -0.36836444 & -0.17006221\\\\\n",
       "\\end{tabular}\n"
      ],
      "text/markdown": [
       "\n",
       "A matrix: 6 × 8 of type dbl\n",
       "\n",
       "| Центральный федеральный округ | Северо-Западный федеральный округ | Южный федеральный округ (с 2010 года) | Северо-Кавказский федеральный округ | Приволжский федеральный округ | Уральский федеральный округ | Сибирский федеральный округ | Дальневосточный федеральный округ |\n",
       "|---|---|---|---|---|---|---|---|\n",
       "|  0.09552902 |  0.047723517 |  0.32685608 | -0.003891055 |  0.346996535 |  0.25023207 |  0.22697963 |  1.05993343 |\n",
       "|  0.18299136 | -0.009429879 | -0.18667429 |  0.087660939 |  0.225091209 |  0.21585622 |  0.22148336 |  0.14403937 |\n",
       "| -0.13136637 |  0.157061081 |  0.29968426 | -0.060736235 |  0.198289928 | -0.23447977 |  0.02418698 |  0.15135933 |\n",
       "| -0.12597253 |  0.039532154 |  0.03049682 |  0.191137735 |  0.099614384 |  0.41946904 | -0.09135708 | -0.12132704 |\n",
       "|  0.05292864 |  0.034860486 | -0.23710025 | -0.235762015 | -0.065275684 | -0.13290974 |  0.27428492 |  0.07190775 |\n",
       "|  0.01690313 | -0.031226996 |  0.10195643 |  0.348306694 |  0.000393111 |  0.06217472 | -0.36836444 | -0.17006221 |\n",
       "\n"
      ],
      "text/plain": [
       "     Центральный федеральный округ Северо-Западный федеральный округ\n",
       "[1,]  0.09552902                    0.047723517                     \n",
       "[2,]  0.18299136                   -0.009429879                     \n",
       "[3,] -0.13136637                    0.157061081                     \n",
       "[4,] -0.12597253                    0.039532154                     \n",
       "[5,]  0.05292864                    0.034860486                     \n",
       "[6,]  0.01690313                   -0.031226996                     \n",
       "     Южный федеральный округ (с 2010 года) Северо-Кавказский федеральный округ\n",
       "[1,]  0.32685608                           -0.003891055                       \n",
       "[2,] -0.18667429                            0.087660939                       \n",
       "[3,]  0.29968426                           -0.060736235                       \n",
       "[4,]  0.03049682                            0.191137735                       \n",
       "[5,] -0.23710025                           -0.235762015                       \n",
       "[6,]  0.10195643                            0.348306694                       \n",
       "     Приволжский федеральный округ Уральский федеральный округ\n",
       "[1,]  0.346996535                   0.25023207                \n",
       "[2,]  0.225091209                   0.21585622                \n",
       "[3,]  0.198289928                  -0.23447977                \n",
       "[4,]  0.099614384                   0.41946904                \n",
       "[5,] -0.065275684                  -0.13290974                \n",
       "[6,]  0.000393111                   0.06217472                \n",
       "     Сибирский федеральный округ Дальневосточный федеральный округ\n",
       "[1,]  0.22697963                  1.05993343                      \n",
       "[2,]  0.22148336                  0.14403937                      \n",
       "[3,]  0.02418698                  0.15135933                      \n",
       "[4,] -0.09135708                 -0.12132704                      \n",
       "[5,]  0.27428492                  0.07190775                      \n",
       "[6,] -0.36836444                 -0.17006221                      "
      ]
     },
     "metadata": {},
     "output_type": "display_data"
    }
   ],
   "source": [
    "head(prod)"
   ]
  },
  {
   "cell_type": "code",
   "execution_count": 12,
   "metadata": {},
   "outputs": [
    {
     "name": "stderr",
     "output_type": "stream",
     "text": [
      "Warning message in adf.test(prod[, i]):\n",
      "\"p-value smaller than printed p-value\"\n"
     ]
    },
    {
     "name": "stdout",
     "output_type": "stream",
     "text": [
      "[1] 0.01\n"
     ]
    },
    {
     "name": "stderr",
     "output_type": "stream",
     "text": [
      "Warning message in adf.test(prod[, i]):\n",
      "\"p-value smaller than printed p-value\"\n"
     ]
    },
    {
     "name": "stdout",
     "output_type": "stream",
     "text": [
      "[1] 0.01\n"
     ]
    },
    {
     "name": "stderr",
     "output_type": "stream",
     "text": [
      "Warning message in adf.test(prod[, i]):\n",
      "\"p-value smaller than printed p-value\"\n"
     ]
    },
    {
     "name": "stdout",
     "output_type": "stream",
     "text": [
      "[1] 0.01\n"
     ]
    },
    {
     "name": "stderr",
     "output_type": "stream",
     "text": [
      "Warning message in adf.test(prod[, i]):\n",
      "\"p-value smaller than printed p-value\"\n"
     ]
    },
    {
     "name": "stdout",
     "output_type": "stream",
     "text": [
      "[1] 0.01\n"
     ]
    },
    {
     "name": "stderr",
     "output_type": "stream",
     "text": [
      "Warning message in adf.test(prod[, i]):\n",
      "\"p-value smaller than printed p-value\"\n"
     ]
    },
    {
     "name": "stdout",
     "output_type": "stream",
     "text": [
      "[1] 0.01\n"
     ]
    },
    {
     "name": "stderr",
     "output_type": "stream",
     "text": [
      "Warning message in adf.test(prod[, i]):\n",
      "\"p-value smaller than printed p-value\"\n"
     ]
    },
    {
     "name": "stdout",
     "output_type": "stream",
     "text": [
      "[1] 0.01\n"
     ]
    },
    {
     "name": "stderr",
     "output_type": "stream",
     "text": [
      "Warning message in adf.test(prod[, i]):\n",
      "\"p-value smaller than printed p-value\"\n"
     ]
    },
    {
     "name": "stdout",
     "output_type": "stream",
     "text": [
      "[1] 0.01\n"
     ]
    },
    {
     "name": "stderr",
     "output_type": "stream",
     "text": [
      "Warning message in adf.test(prod[, i]):\n",
      "\"p-value smaller than printed p-value\"\n"
     ]
    },
    {
     "name": "stdout",
     "output_type": "stream",
     "text": [
      "[1] 0.01\n"
     ]
    }
   ],
   "source": [
    "for (i in 1:ncol(prod)) {\n",
    "t <- adf.test(prod[,i])\n",
    "print(t$p.value)\n",
    "}"
   ]
  },
  {
   "cell_type": "markdown",
   "metadata": {},
   "source": [
    "### Сделал все ряды стационарными, приступаем к ВАР модели"
   ]
  },
  {
   "cell_type": "code",
   "execution_count": 13,
   "metadata": {},
   "outputs": [
    {
     "name": "stderr",
     "output_type": "stream",
     "text": [
      "Warning message in log(sigma.det):\n",
      "\"созданы NaN\"\n",
      "Warning message in log(sigma.det):\n",
      "\"созданы NaN\"\n",
      "Warning message in log(sigma.det):\n",
      "\"созданы NaN\"\n"
     ]
    }
   ],
   "source": [
    "m1 <- VAR(prod, lag.max = 24)"
   ]
  },
  {
   "cell_type": "code",
   "execution_count": 14,
   "metadata": {
    "scrolled": true
   },
   "outputs": [
    {
     "data": {
      "image/png": "[encoded data removed]",
      "text/plain": [
       "Plot with title \"Forecast of series Дальневосточный.федеральный.округ\""
      ]
     },
     "metadata": {
      "image/png": {
       "height": 420,
       "width": 420
      },
      "text/plain": {
       "height": 420,
       "width": 420
      }
     },
     "output_type": "display_data"
    }
   ],
   "source": [
    "plot(predict(m1))"
   ]
  },
  {
   "cell_type": "markdown",
   "metadata": {},
   "source": [
    "### Все модели значимы, переведем обратно к абсолютным значениям "
   ]
  },
  {
   "cell_type": "code",
   "execution_count": 16,
   "metadata": {},
   "outputs": [],
   "source": [
    "k <- predict(m1)"
   ]
  },
  {
   "cell_type": "code",
   "execution_count": 17,
   "metadata": {},
   "outputs": [],
   "source": [
    "pred <- cbind(k$fcst$Центральный.федеральный.округ[,1], k$fcst$Северо.Западный.федеральный.округ[,1],\n",
    "              k$fcst$Южный.федеральный.округ..с.2010.года.[,1], k$fcst$Северо.Кавказский.федеральный.округ[,1],\n",
    "              k$fcst$Приволжский.федеральный.округ[,1], k$fcst$Уральский.федеральный.округ[,1],\n",
    "              k$fcst$Сибирский.федеральный.округ[,1], k$fcst$Дальневосточный.федеральный.округ[,1])"
   ]
  },
  {
   "cell_type": "code",
   "execution_count": 18,
   "metadata": {
    "scrolled": true
   },
   "outputs": [],
   "source": [
    "prod <- rbind(prod, pred)"
   ]
  },
  {
   "cell_type": "code",
   "execution_count": 19,
   "metadata": {},
   "outputs": [],
   "source": [
    "prod <- rbind(first_row, prod)"
   ]
  },
  {
   "cell_type": "code",
   "execution_count": 20,
   "metadata": {},
   "outputs": [],
   "source": [
    "for (i in 2:nrow(prod)) {\n",
    "prod[i,] <- prod[(i-1),] * exp(prod[i,])\n",
    "}"
   ]
  },
  {
   "cell_type": "code",
   "execution_count": 21,
   "metadata": {
    "scrolled": true
   },
   "outputs": [],
   "source": [
    "total_prod <- rowSums(prod)"
   ]
  },
  {
   "cell_type": "code",
   "execution_count": 22,
   "metadata": {},
   "outputs": [
    {
     "data": {
      "image/png": "[encoded data removed]",
      "text/plain": [
       "Plot with title \"Ketchup production in Russia\""
      ]
     },
     "metadata": {
      "image/png": {
       "height": 420,
       "width": 420
      },
      "text/plain": {
       "height": 420,
       "width": 420
      }
     },
     "output_type": "display_data"
    }
   ],
   "source": [
    "plot(total_prod, t = 'l', lwd = 2, col = 'red', main = 'Ketchup production in Russia', ylab = 'value', xlab = 'months from 2010')\n",
    "lines(total_prod[1:118] ,lwd = 2, col = 'blue')"
   ]
  },
  {
   "cell_type": "markdown",
   "metadata": {},
   "source": [
    "#### Результат получилось не очень, ведт такие модели используются обычно для краткосрочных периодов и не учитывают ничего, кроме самих значений. Сама пмодель подразумеваент, что производство в округах влияет друг на друга. Похожие модели используются для прогнозирования макроэкономических показателей, которые впрочем тоже можно было добавить в модель"
   ]
  },
  {
   "cell_type": "markdown",
   "metadata": {},
   "source": [
    "# Второй подход. ARMA+GARCH"
   ]
  },
  {
   "cell_type": "code",
   "execution_count": 23,
   "metadata": {},
   "outputs": [],
   "source": [
    "garchAutoTryFit = function(\n",
    "  ll,\n",
    "  data,\n",
    "  trace=FALSE,\n",
    "  forecast.length=1,\n",
    "  with.forecast=TRUE,\n",
    "  ic=\"AIC\",\n",
    "  garch.model=\"garch\" )\n",
    "{\n",
    "  formula = as.formula( paste( sep=\"\",\n",
    "                               \"~ arma(\", ll$order[1], \",\", ll$order[2], \")+\",\n",
    "                               garch.model,\n",
    "                               \"(\", ll$order[3], \",\", ll$order[4], \")\" ) )\n",
    "  fit = tryCatch( garchFit( formula=formula,\n",
    "                            data=data,\n",
    "                            trace=FALSE,\n",
    "                            cond.dist=ll$dist ),\n",
    "                  error=function( err ) TRUE,\n",
    "                  warning=function( warn ) FALSE )\n",
    "  \n",
    "  pp = NULL\n",
    "  \n",
    "  if( !is.logical( fit ) ) {\n",
    "    if( with.forecast ) {\n",
    "      pp = tryCatch( predict( fit,\n",
    "                              n.ahead=forecast.length,\n",
    "                              doplot=FALSE ),\n",
    "                     error=function( err ) FALSE,\n",
    "                     warning=function( warn ) FALSE )\n",
    "      if( is.logical( pp ) ) {\n",
    "        fit = NULL\n",
    "      }\n",
    "    }\n",
    "  } else {\n",
    "    fit = NULL\n",
    "  }\n",
    "  \n",
    "  if( trace ) {\n",
    "    if( is.null( fit ) ) {\n",
    "      cat( paste( sep=\"\",\n",
    "                  \"   Analyzing (\", ll$order[1], \",\", ll$order[2],\n",
    "                  \",\", ll$order[3], \",\", ll$order[4], \") with \",\n",
    "                  ll$dist, \" distribution done.\",\n",
    "                  \"Bad model.\\n\" ) )\n",
    "    } else {\n",
    "      if( with.forecast ) {\n",
    "        cat( paste( sep=\"\",\n",
    "                    \"   Analyzing (\", ll$order[1], \",\", ll$order[2], \",\",\n",
    "                    ll$order[3], \",\", ll$order[4], \") with \",\n",
    "                    ll$dist, \" distribution done.\",\n",
    "                    \"Good model. \", ic, \" = \", round(fit@fit$ics[[ic]],6),\n",
    "                    \", forecast: \",\n",
    "                    paste( collapse=\",\", round(pp[,1],4) ), \"\\n\" ) )\n",
    "      } else {\n",
    "        cat( paste( sep=\"\",\n",
    "                    \"   Analyzing (\", ll[1], \",\", ll[2], \",\", ll[3], \",\", ll[4], \") with \",\n",
    "                    ll$dist, \" distribution done.\",\n",
    "                    \"Good model. \", ic, \" = \", round(fit@fit$ics[[ic]],6), \"\\n\" ) )\n",
    "      }\n",
    "    }\n",
    "  }\n",
    "  \n",
    "  return( fit )\n",
    "}\n",
    "\n",
    "garchAuto = function(\n",
    "  xx,\n",
    "  min.order=c(0,0,1,1),\n",
    "  max.order=c(12,12,2,2),     # Ставлю лаг в год, ведь экономика - сезонна\n",
    "  trace=FALSE,\n",
    "  cond.dists=\"sged\",\n",
    "  with.forecast=TRUE,\n",
    "  forecast.length=1,\n",
    "  arma.sum=c(0,1e9),\n",
    "  cores=1,\n",
    "  ic=\"AIC\",\n",
    "  garch.model=\"garch\" )\n",
    "{\n",
    "  require( fGarch )\n",
    "  require( parallel )\n",
    "  \n",
    "  len = NROW( xx )\n",
    "  \n",
    "  models = list( )\n",
    "  \n",
    "  for( dist in cond.dists )\n",
    "    for( p in min.order[1]:max.order[1] )\n",
    "      for( q in min.order[2]:max.order[2] )\n",
    "        for( r in min.order[3]:max.order[3] )\n",
    "          for( s in min.order[4]:max.order[4] )\n",
    "          {\n",
    "            pq.sum = p + q\n",
    "            if( pq.sum <= arma.sum[2] && pq.sum >= arma.sum[1] )\n",
    "            {\n",
    "              models[[length( models ) + 1]] = list( order=c( p, q, r, s ), dist=dist )\n",
    "            }\n",
    "          }\n",
    "  \n",
    "  res = mclapply( models,\n",
    "                  garchAutoTryFit,\n",
    "                  data=xx,\n",
    "                  trace=trace,\n",
    "                  ic=ic,\n",
    "                  garch.model=garch.model,\n",
    "                  forecast.length=forecast.length,\n",
    "                  with.forecast=TRUE,\n",
    "                  mc.cores=cores )\n",
    "  \n",
    "  best.fit = NULL\n",
    "  \n",
    "  best.ic = 1e9\n",
    "  for( rr in res )\n",
    "  {\n",
    "    if( !is.null( rr ) )\n",
    "    {\n",
    "      current.ic = rr@fit$ics[[ic]]\n",
    "      if( current.ic < best.ic )\n",
    "      {\n",
    "        best.ic = current.ic\n",
    "        best.fit = rr\n",
    "      }\n",
    "    }\n",
    "  }\n",
    "  \n",
    "  if( best.ic < 1e9 )\n",
    "  {\n",
    "    return( best.fit )\n",
    "  }\n",
    "  \n",
    "  return( NULL )\n",
    "    }"
   ]
  },
  {
   "cell_type": "code",
   "execution_count": 24,
   "metadata": {},
   "outputs": [],
   "source": [
    "total_prod <- total_prod[1:119]"
   ]
  },
  {
   "cell_type": "code",
   "execution_count": 25,
   "metadata": {},
   "outputs": [
    {
     "data": {
      "text/plain": [
       "\n",
       "\tAugmented Dickey-Fuller Test\n",
       "\n",
       "data:  total_prod\n",
       "Dickey-Fuller = -3.9976, Lag order = 4, p-value = 0.01177\n",
       "alternative hypothesis: stationary\n"
      ]
     },
     "metadata": {},
     "output_type": "display_data"
    }
   ],
   "source": [
    "adf.test(total_prod )"
   ]
  },
  {
   "cell_type": "markdown",
   "metadata": {},
   "source": [
    "### Ряд стационарен, можем на прямую с ним работать "
   ]
  },
  {
   "cell_type": "code",
   "execution_count": 26,
   "metadata": {
    "collapsed": true
   },
   "outputs": [
    {
     "name": "stderr",
     "output_type": "stream",
     "text": [
      "Loading required package: fGarch\n",
      "\n",
      "Warning message:\n",
      "\"package 'fGarch' was built under R version 3.6.3\"\n",
      "Loading required package: timeDate\n",
      "\n",
      "Loading required package: timeSeries\n",
      "\n",
      "Warning message:\n",
      "\"package 'timeSeries' was built under R version 3.6.3\"\n",
      "\n",
      "Attaching package: 'timeSeries'\n",
      "\n",
      "\n",
      "The following object is masked from 'package:zoo':\n",
      "\n",
      "    time<-\n",
      "\n",
      "\n",
      "Loading required package: fBasics\n",
      "\n",
      "Warning message:\n",
      "\"package 'fBasics' was built under R version 3.6.3\"\n",
      "Loading required package: parallel\n",
      "\n"
     ]
    }
   ],
   "source": [
    "m2 <- garchAuto(total_prod) # Довольно долгий процесс "
   ]
  },
  {
   "cell_type": "code",
   "execution_count": 27,
   "metadata": {},
   "outputs": [
    {
     "name": "stdout",
     "output_type": "stream",
     "text": [
      "\n",
      "Title:\n",
      " GARCH Modelling \n",
      "\n",
      "Call:\n",
      " garchFit(formula = formula, data = data, cond.dist = ll$dist, \n",
      "    trace = FALSE) \n",
      "\n",
      "Mean and Variance Equation:\n",
      " data ~ arma(1, 10) + garch(1, 2)\n",
      "<environment: 0x000000004c19a6b0>\n",
      " [data = data]\n",
      "\n",
      "Conditional Distribution:\n",
      " sged \n",
      "\n",
      "Coefficient(s):\n",
      "         mu          ar1          ma1          ma2          ma3          ma4  \n",
      " 2.0237e+04   5.5593e-01   4.4466e-01   6.9240e-01   2.3312e-01   3.6182e-01  \n",
      "        ma5          ma6          ma7          ma8          ma9         ma10  \n",
      " 1.8532e-01   1.4051e-01   2.3899e-02   1.5330e-01   2.8920e-01  -1.6002e-01  \n",
      "      omega       alpha1        beta1        beta2         skew        shape  \n",
      " 4.7915e+05   3.1084e-02   9.4606e-01   1.0000e-08   1.0000e+01   2.2238e+00  \n",
      "\n",
      "Std. Errors:\n",
      " based on Hessian \n",
      "\n",
      "Error Analysis:\n",
      "         Estimate  Std. Error  t value Pr(>|t|)    \n",
      "mu      2.024e+04   3.266e+02   61.957   <2e-16 ***\n",
      "ar1     5.559e-01   9.436e-03   58.918   <2e-16 ***\n",
      "ma1     4.447e-01   9.896e-03   44.933   <2e-16 ***\n",
      "ma2     6.924e-01   9.108e-03   76.019   <2e-16 ***\n",
      "ma3     2.331e-01   1.281e-02   18.195   <2e-16 ***\n",
      "ma4     3.618e-01   1.001e-02   36.133   <2e-16 ***\n",
      "ma5     1.853e-01   1.561e-02   11.869   <2e-16 ***\n",
      "ma6     1.405e-01   9.760e-03   14.396   <2e-16 ***\n",
      "ma7     2.390e-02   1.358e-02    1.760   0.0785 .  \n",
      "ma8     1.533e-01   1.166e-02   13.151   <2e-16 ***\n",
      "ma9     2.892e-01   1.129e-02   25.625   <2e-16 ***\n",
      "ma10   -1.600e-01   1.039e-02  -15.394   <2e-16 ***\n",
      "omega   4.792e+05   1.375e+04   34.856   <2e-16 ***\n",
      "alpha1  3.108e-02   3.740e-03    8.311   <2e-16 ***\n",
      "beta1   9.461e-01   1.076e-01    8.792   <2e-16 ***\n",
      "beta2   1.000e-08   1.053e-01    0.000   1.0000    \n",
      "skew    1.000e+01   6.579e-01   15.200   <2e-16 ***\n",
      "shape   2.224e+00   1.810e-01   12.283   <2e-16 ***\n",
      "---\n",
      "Signif. codes:  0 '***' 0.001 '**' 0.01 '*' 0.05 '.' 0.1 ' ' 1\n",
      "\n",
      "Log Likelihood:\n",
      " -1173.406    normalized:  -9.860553 \n",
      "\n",
      "Description:\n",
      " Mon Apr 13 23:31:21 2020 by user: Митя \n",
      "\n",
      "\n",
      "Standardised Residuals Tests:\n",
      "                                Statistic p-Value     \n",
      " Jarque-Bera Test   R    Chi^2  11.47221  0.00322731  \n",
      " Shapiro-Wilk Test  R    W      0.946908  0.0001381318\n",
      " Ljung-Box Test     R    Q(10)  28.70825  0.001388961 \n",
      " Ljung-Box Test     R    Q(15)  42.8884   0.0001638558\n",
      " Ljung-Box Test     R    Q(20)  54.95708  4.16722e-05 \n",
      " Ljung-Box Test     R^2  Q(10)  9.35459   0.4988146   \n",
      " Ljung-Box Test     R^2  Q(15)  28.16727  0.02054512  \n",
      " Ljung-Box Test     R^2  Q(20)  34.39821  0.02355381  \n",
      " LM Arch Test       R    TR^2   19.22022  0.0833507   \n",
      "\n",
      "Information Criterion Statistics:\n",
      "     AIC      BIC      SIC     HQIC \n",
      "20.02363 20.44400 19.98541 20.19433 \n",
      "\n"
     ]
    }
   ],
   "source": [
    "summary(m2)"
   ]
  },
  {
   "cell_type": "code",
   "execution_count": 52,
   "metadata": {},
   "outputs": [],
   "source": [
    "pred2 <- as.data.frame(predict(m2, n.ahead = 12)[,1])\n",
    "colnames(pred2) <- 'prod'\n",
    "real <- as.data.frame(total_prod)\n",
    "colnames(real) <- 'prod'"
   ]
  },
  {
   "cell_type": "code",
   "execution_count": 53,
   "metadata": {},
   "outputs": [],
   "source": [
    "new_total_prod <- rbind(real, pred2)"
   ]
  },
  {
   "cell_type": "code",
   "execution_count": 65,
   "metadata": {},
   "outputs": [],
   "source": [
    "total_prod <- rowSums(prod)"
   ]
  },
  {
   "cell_type": "code",
   "execution_count": 93,
   "metadata": {},
   "outputs": [
    {
     "data": {
      "image/png": "[encoded data removed]",
      "text/plain": [
       "Plot with title \"Производство кетчупа в России\""
      ]
     },
     "metadata": {
      "image/png": {
       "height": 420,
       "width": 420
      },
      "text/plain": {
       "height": 420,
       "width": 420
      }
     },
     "output_type": "display_data"
    }
   ],
   "source": [
    "plot(as.ts(total_prod), t='l', col = 'red', lwd = 3, main = 'Производство кетчупа в России',\n",
    "     ylab = 'Тысячи условных банок', xlab = 'Месяцы, начиная с 2010 года')\n",
    "lines(as.ts(new_total_prod), col = 'blue', lwd = 3)\n",
    "lines(as.ts(new_total_prod[1:118,]), col = 'grey', lwd = 3)\n",
    "legend(fill = c('grey', 'red', 'blue'), legend = c('Real', 'VAR prediction', 'ARMA+GARCH prediction'), 'topleft')"
   ]
  },
  {
   "cell_type": "markdown",
   "metadata": {},
   "source": [
    "#### Уже больше похоже на правду, но все равно модель также предназначена для краткосрочных прогнозов. Включих в модель фактор потребительской сезонности (то есть само потребление) результат не сильно изменится, ведь эти данные уже имеют это \"в памяти\". Интересно заметит, что краткосрочные прогнозы VAR и ARMA+GARCH совпадают (синий накладывается на красный), что и делает эти модели хорошими для предсказания "
   ]
  },
  {
   "cell_type": "code",
   "execution_count": null,
   "metadata": {},
   "outputs": [],
   "source": []
  }
 ],
 "metadata": {
  "kernelspec": {
   "display_name": "R",
   "language": "R",
   "name": "ir"
  },
  "language_info": {
   "codemirror_mode": "r",
   "file_extension": ".r",
   "mimetype": "text/x-r-source",
   "name": "R",
   "pygments_lexer": "r",
   "version": "3.6.1"
  }
 },
 "nbformat": 4,
 "nbformat_minor": 4
}
