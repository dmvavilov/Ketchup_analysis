{
 "cells": [
  {
   "cell_type": "code",
   "execution_count": 337,
   "metadata": {},
   "outputs": [],
   "source": [
    "garchAutoTryFit = function(\n",
    "  ll,\n",
    "  data,\n",
    "  trace=FALSE,\n",
    "  forecast.length=1,\n",
    "  with.forecast=TRUE,\n",
    "  ic=\"AIC\",\n",
    "  garch.model=\"garch\" )\n",
    "{\n",
    "  formula = as.formula( paste( sep=\"\",\n",
    "                               \"~ arma(\", ll$order[1], \",\", ll$order[2], \")+\",\n",
    "                               garch.model,\n",
    "                               \"(\", ll$order[3], \",\", ll$order[4], \")\" ) )\n",
    "  fit = tryCatch( garchFit( formula=formula,\n",
    "                            data=data,\n",
    "                            trace=FALSE,\n",
    "                            cond.dist=ll$dist ),\n",
    "                  error=function( err ) TRUE,\n",
    "                  warning=function( warn ) FALSE )\n",
    "  \n",
    "  pp = NULL\n",
    "  \n",
    "  if( !is.logical( fit ) ) {\n",
    "    if( with.forecast ) {\n",
    "      pp = tryCatch( predict( fit,\n",
    "                              n.ahead=forecast.length,\n",
    "                              doplot=FALSE ),\n",
    "                     error=function( err ) FALSE,\n",
    "                     warning=function( warn ) FALSE )\n",
    "      if( is.logical( pp ) ) {\n",
    "        fit = NULL\n",
    "      }\n",
    "    }\n",
    "  } else {\n",
    "    fit = NULL\n",
    "  }\n",
    "  \n",
    "  if( trace ) {\n",
    "    if( is.null( fit ) ) {\n",
    "      cat( paste( sep=\"\",\n",
    "                  \"   Analyzing (\", ll$order[1], \",\", ll$order[2],\n",
    "                  \",\", ll$order[3], \",\", ll$order[4], \") with \",\n",
    "                  ll$dist, \" distribution done.\",\n",
    "                  \"Bad model.\\n\" ) )\n",
    "    } else {\n",
    "      if( with.forecast ) {\n",
    "        cat( paste( sep=\"\",\n",
    "                    \"   Analyzing (\", ll$order[1], \",\", ll$order[2], \",\",\n",
    "                    ll$order[3], \",\", ll$order[4], \") with \",\n",
    "                    ll$dist, \" distribution done.\",\n",
    "                    \"Good model. \", ic, \" = \", round(fit@fit$ics[[ic]],6),\n",
    "                    \", forecast: \",\n",
    "                    paste( collapse=\",\", round(pp[,1],4) ), \"\\n\" ) )\n",
    "      } else {\n",
    "        cat( paste( sep=\"\",\n",
    "                    \"   Analyzing (\", ll[1], \",\", ll[2], \",\", ll[3], \",\", ll[4], \") with \",\n",
    "                    ll$dist, \" distribution done.\",\n",
    "                    \"Good model. \", ic, \" = \", round(fit@fit$ics[[ic]],6), \"\\n\" ) )\n",
    "      }\n",
    "    }\n",
    "  }\n",
    "  \n",
    "  return( fit )\n",
    "}\n",
    "\n",
    "garchAuto = function(\n",
    "  xx,\n",
    "  min.order=c(0,0,1,1),\n",
    "  max.order=c(5,5,2,2),     # Ставлю лаг в год, ведь экономика - сезонна\n",
    "  trace=FALSE,\n",
    "  cond.dists=\"sged\",\n",
    "  with.forecast=TRUE,\n",
    "  forecast.length=1,\n",
    "  arma.sum=c(0,1e9),\n",
    "  cores=1,\n",
    "  ic=\"AIC\",\n",
    "  garch.model=\"garch\" )\n",
    "{\n",
    "  require( fGarch )\n",
    "  require( parallel )\n",
    "  \n",
    "  len = NROW( xx )\n",
    "  \n",
    "  models = list( )\n",
    "  \n",
    "  for( dist in cond.dists )\n",
    "    for( p in min.order[1]:max.order[1] )\n",
    "      for( q in min.order[2]:max.order[2] )\n",
    "        for( r in min.order[3]:max.order[3] )\n",
    "          for( s in min.order[4]:max.order[4] )\n",
    "          {\n",
    "            pq.sum = p + q\n",
    "            if( pq.sum <= arma.sum[2] && pq.sum >= arma.sum[1] )\n",
    "            {\n",
    "              models[[length( models ) + 1]] = list( order=c( p, q, r, s ), dist=dist )\n",
    "            }\n",
    "          }\n",
    "  \n",
    "  res = mclapply( models,\n",
    "                  garchAutoTryFit,\n",
    "                  data=xx,\n",
    "                  trace=trace,\n",
    "                  ic=ic,\n",
    "                  garch.model=garch.model,\n",
    "                  forecast.length=forecast.length,\n",
    "                  with.forecast=TRUE,\n",
    "                  mc.cores=cores )\n",
    "  \n",
    "  best.fit = NULL\n",
    "  \n",
    "  best.ic = 1e9\n",
    "  for( rr in res )\n",
    "  {\n",
    "    if( !is.null( rr ) )\n",
    "    {\n",
    "      current.ic = rr@fit$ics[[ic]]\n",
    "      if( current.ic < best.ic )\n",
    "      {\n",
    "        best.ic = current.ic\n",
    "        best.fit = rr\n",
    "      }\n",
    "    }\n",
    "  }\n",
    "  \n",
    "  if( best.ic < 1e9 )\n",
    "  {\n",
    "    return( best.fit )\n",
    "  }\n",
    "  \n",
    "  return( NULL )\n",
    "    }"
   ]
  },
  {
   "cell_type": "code",
   "execution_count": 261,
   "metadata": {},
   "outputs": [],
   "source": [
    "library(dplyr)"
   ]
  },
  {
   "cell_type": "code",
   "execution_count": 1,
   "metadata": {
    "collapsed": true
   },
   "outputs": [
    {
     "name": "stderr",
     "output_type": "stream",
     "text": [
      "Warning message:\n",
      "\"package 'readxl' was built under R version 3.6.3\"\n"
     ]
    }
   ],
   "source": [
    "library(readxl)"
   ]
  },
  {
   "cell_type": "code",
   "execution_count": 2,
   "metadata": {
    "collapsed": true
   },
   "outputs": [
    {
     "name": "stderr",
     "output_type": "stream",
     "text": [
      "Warning message:\n",
      "\"package 'tseries' was built under R version 3.6.3\"\n",
      "Registered S3 method overwritten by 'quantmod':\n",
      "  method            from\n",
      "  as.zoo.data.frame zoo \n",
      "\n"
     ]
    }
   ],
   "source": [
    "library(tseries)"
   ]
  },
  {
   "cell_type": "code",
   "execution_count": 7,
   "metadata": {
    "collapsed": true
   },
   "outputs": [
    {
     "name": "stderr",
     "output_type": "stream",
     "text": [
      "Warning message:\n",
      "\"package 'forecast' was built under R version 3.6.3\"\n"
     ]
    }
   ],
   "source": [
    "library(forecast)"
   ]
  },
  {
   "cell_type": "code",
   "execution_count": 611,
   "metadata": {},
   "outputs": [],
   "source": [
    "price <- read_excel('price.xlsx')"
   ]
  },
  {
   "cell_type": "code",
   "execution_count": 612,
   "metadata": {},
   "outputs": [],
   "source": [
    "price <- price[-97,3:4]"
   ]
  },
  {
   "cell_type": "code",
   "execution_count": 613,
   "metadata": {},
   "outputs": [],
   "source": [
    "price <- as.ts(price)"
   ]
  },
  {
   "cell_type": "code",
   "execution_count": 614,
   "metadata": {},
   "outputs": [],
   "source": [
    "price <- diff(log(price))"
   ]
  },
  {
   "cell_type": "code",
   "execution_count": 615,
   "metadata": {},
   "outputs": [
    {
     "data": {
      "image/png": "[encoded data removed]",
      "text/plain": [
       "plot without title"
      ]
     },
     "metadata": {
      "image/png": {
       "height": 420,
       "width": 420
      },
      "text/plain": {
       "height": 420,
       "width": 420
      }
     },
     "output_type": "display_data"
    }
   ],
   "source": [
    "plot(price[,1])"
   ]
  },
  {
   "cell_type": "markdown",
   "metadata": {},
   "source": [
    "#### Первое что приходит в голову, что может влиять на цену, это инфляция. Подгружу ее отдельным файлом + загружу USD/RUB. В идеале инфляция должна влиять на курс, но в суровом мире макроэкономика эти два показатели часто рассматривают отдельно."
   ]
  },
  {
   "cell_type": "code",
   "execution_count": 253,
   "metadata": {},
   "outputs": [],
   "source": [
    "ex <- read_excel('exr.xlsx')"
   ]
  },
  {
   "cell_type": "code",
   "execution_count": 254,
   "metadata": {},
   "outputs": [],
   "source": [
    "ex <- as.ts(ex)"
   ]
  },
  {
   "cell_type": "code",
   "execution_count": 255,
   "metadata": {},
   "outputs": [],
   "source": [
    "ex <- diff(log(ex))"
   ]
  },
  {
   "cell_type": "code",
   "execution_count": 256,
   "metadata": {},
   "outputs": [
    {
     "data": {
      "image/png": "[encoded data removed]",
      "text/plain": [
       "plot without title"
      ]
     },
     "metadata": {
      "image/png": {
       "height": 420,
       "width": 420
      },
      "text/plain": {
       "height": 420,
       "width": 420
      }
     },
     "output_type": "display_data"
    }
   ],
   "source": [
    "plot(ex, t = 'l')"
   ]
  },
  {
   "cell_type": "code",
   "execution_count": 609,
   "metadata": {},
   "outputs": [],
   "source": [
    "infl <- read_excel('Infl.xlsx')"
   ]
  },
  {
   "cell_type": "code",
   "execution_count": 610,
   "metadata": {},
   "outputs": [],
   "source": [
    "infl <- infl[25:120,]"
   ]
  },
  {
   "cell_type": "code",
   "execution_count": 153,
   "metadata": {},
   "outputs": [],
   "source": [
    "infl <- as.ts(infl)"
   ]
  },
  {
   "cell_type": "code",
   "execution_count": 154,
   "metadata": {},
   "outputs": [],
   "source": [
    "infl <- infl[-1]"
   ]
  },
  {
   "cell_type": "code",
   "execution_count": 155,
   "metadata": {},
   "outputs": [
    {
     "data": {
      "image/png": "[encoded data removed]",
      "text/plain": [
       "plot without title"
      ]
     },
     "metadata": {
      "image/png": {
       "height": 420,
       "width": 420
      },
      "text/plain": {
       "height": 420,
       "width": 420
      }
     },
     "output_type": "display_data"
    }
   ],
   "source": [
    "plot(infl, t = 'l')"
   ]
  },
  {
   "cell_type": "markdown",
   "metadata": {},
   "source": [
    "#### Связь с инфляцией на лицо, попробую построить линейную регрессию, но сначала, как всегда, нужно проверить на стационарность "
   ]
  },
  {
   "cell_type": "code",
   "execution_count": 156,
   "metadata": {},
   "outputs": [
    {
     "name": "stderr",
     "output_type": "stream",
     "text": [
      "Warning message in adf.test(price[, 2]):\n",
      "\"p-value smaller than printed p-value\"\n"
     ]
    },
    {
     "data": {
      "text/plain": [
       "\n",
       "\tAugmented Dickey-Fuller Test\n",
       "\n",
       "data:  price[, 2]\n",
       "Dickey-Fuller = -4.1551, Lag order = 4, p-value = 0.01\n",
       "alternative hypothesis: stationary\n"
      ]
     },
     "metadata": {},
     "output_type": "display_data"
    }
   ],
   "source": [
    "adf.test(price[,2])"
   ]
  },
  {
   "cell_type": "code",
   "execution_count": 157,
   "metadata": {},
   "outputs": [],
   "source": [
    "library(vars)"
   ]
  },
  {
   "cell_type": "code",
   "execution_count": 158,
   "metadata": {},
   "outputs": [],
   "source": [
    "m1 <- VAR(price, lag.max = 12)"
   ]
  },
  {
   "cell_type": "code",
   "execution_count": 161,
   "metadata": {},
   "outputs": [
    {
     "data": {
      "image/png": "[encoded data removed]",
      "text/plain": [
       "Plot with title \"Forecast of series Цена.производителя\""
      ]
     },
     "metadata": {
      "image/png": {
       "height": 420,
       "width": 420
      },
      "text/plain": {
       "height": 420,
       "width": 420
      }
     },
     "output_type": "display_data"
    }
   ],
   "source": [
    "plot(predict(m1))"
   ]
  },
  {
   "cell_type": "markdown",
   "metadata": {},
   "source": [
    "#### Думаю, что все-таки цена производителя влияет на розничную, нежели наоборот. Поэтому сначала будет построен прогноз для цен производителя, потом же, исходя из прогноза, буду прогнозировать розничую цену "
   ]
  },
  {
   "cell_type": "code",
   "execution_count": 162,
   "metadata": {},
   "outputs": [
    {
     "data": {
      "text/plain": [
       "\n",
       "VAR Estimation Results:\n",
       "========================= \n",
       "Endogenous variables: Розничная.цена, Цена.производителя \n",
       "Deterministic variables: const \n",
       "Sample size: 94 \n",
       "Log Likelihood: 407.714 \n",
       "Roots of the characteristic polynomial:\n",
       "0.7223 0.1659\n",
       "Call:\n",
       "VAR(y = price, lag.max = 12)\n",
       "\n",
       "\n",
       "Estimation results for equation Розничная.цена: \n",
       "=============================================== \n",
       "Розничная.цена = Розничная.цена.l1 + Цена.производителя.l1 + const \n",
       "\n",
       "                        Estimate Std. Error t value Pr(>|t|)    \n",
       "Розничная.цена.l1      0.6951317  0.0718504   9.675 1.22e-15 ***\n",
       "Цена.производителя.l1 -0.0076765  0.0033808  -2.271  0.02553 *  \n",
       "const                  0.0021420  0.0007422   2.886  0.00487 ** \n",
       "---\n",
       "Signif. codes:  0 '***' 0.001 '**' 0.01 '*' 0.05 '.' 0.1 ' ' 1\n",
       "\n",
       "\n",
       "Residual standard error: 0.005188 on 91 degrees of freedom\n",
       "Multiple R-Squared: 0.5769,\tAdjusted R-squared: 0.5676 \n",
       "F-statistic: 62.04 on 2 and 91 DF,  p-value: < 2.2e-16 \n",
       "\n",
       "\n",
       "Estimation results for equation Цена.производителя: \n",
       "=================================================== \n",
       "Цена.производителя = Розничная.цена.l1 + Цена.производителя.l1 + const \n",
       "\n",
       "                      Estimate Std. Error t value Pr(>|t|)\n",
       "Розничная.цена.l1     -3.04487    2.29726  -1.325    0.188\n",
       "Цена.производителя.l1 -0.13873    0.10809  -1.283    0.203\n",
       "const                  0.02128    0.02373   0.897    0.372\n",
       "\n",
       "\n",
       "Residual standard error: 0.1659 on 91 degrees of freedom\n",
       "Multiple R-Squared: 0.02781,\tAdjusted R-squared: 0.006438 \n",
       "F-statistic: 1.301 on 2 and 91 DF,  p-value: 0.2772 \n",
       "\n",
       "\n",
       "\n",
       "Covariance matrix of residuals:\n",
       "                   Розничная.цена Цена.производителя\n",
       "Розничная.цена          2.692e-05         -0.0003401\n",
       "Цена.производителя     -3.401e-04          0.0275153\n",
       "\n",
       "Correlation matrix of residuals:\n",
       "                   Розничная.цена Цена.производителя\n",
       "Розничная.цена             1.0000            -0.3952\n",
       "Цена.производителя        -0.3952             1.0000\n",
       "\n"
      ]
     },
     "metadata": {},
     "output_type": "display_data"
    }
   ],
   "source": [
    "summary(m1) # Модель, кстати, тоже показала, что именно производитель \"диктует правила\""
   ]
  },
  {
   "cell_type": "markdown",
   "metadata": {},
   "source": [
    "#### Осталось понять, что влияет на цены для произодителей"
   ]
  },
  {
   "cell_type": "code",
   "execution_count": 313,
   "metadata": {},
   "outputs": [],
   "source": [
    "data <- cbind(as.data.frame(price[,2]), as.data.frame(infl), as.data.frame(ex))"
   ]
  },
  {
   "cell_type": "code",
   "execution_count": 314,
   "metadata": {},
   "outputs": [],
   "source": [
    "colnames(data)[1] <- 'prod_price'"
   ]
  },
  {
   "cell_type": "code",
   "execution_count": 315,
   "metadata": {},
   "outputs": [],
   "source": [
    "colnames(data)[3] <- 'exr'"
   ]
  },
  {
   "cell_type": "code",
   "execution_count": 316,
   "metadata": {},
   "outputs": [],
   "source": [
    "data$prod_price <- as.numeric(data$prod_price)"
   ]
  },
  {
   "cell_type": "code",
   "execution_count": 317,
   "metadata": {},
   "outputs": [],
   "source": [
    "data$infl.l1 <- lag(data$infl)"
   ]
  },
  {
   "cell_type": "code",
   "execution_count": 318,
   "metadata": {},
   "outputs": [],
   "source": [
    "data$infl.l12 <- lag(data$infl, 12)"
   ]
  },
  {
   "cell_type": "code",
   "execution_count": 319,
   "metadata": {},
   "outputs": [],
   "source": [
    "data$price_prod.l1 <- lag(data$prod_price)"
   ]
  },
  {
   "cell_type": "code",
   "execution_count": 320,
   "metadata": {},
   "outputs": [],
   "source": [
    "data$price_prod.l12 <- lag(data$prod_price, 12)"
   ]
  },
  {
   "cell_type": "code",
   "execution_count": 321,
   "metadata": {},
   "outputs": [],
   "source": [
    "data$exr.l1 <- lag(data$exr)"
   ]
  },
  {
   "cell_type": "code",
   "execution_count": 322,
   "metadata": {},
   "outputs": [],
   "source": [
    "data$exr.l12 <- lag(data$exr, 12)"
   ]
  },
  {
   "cell_type": "code",
   "execution_count": 323,
   "metadata": {},
   "outputs": [],
   "source": [
    "data <- data[-c(1:12),]"
   ]
  },
  {
   "cell_type": "code",
   "execution_count": 342,
   "metadata": {},
   "outputs": [
    {
     "data": {
      "text/html": [
       "<table>\n",
       "<caption>A data.frame: 6 × 4</caption>\n",
       "<thead>\n",
       "\t<tr><th></th><th scope=col>prod_price</th><th scope=col>infl</th><th scope=col>price_prod.l1</th><th scope=col>price_prod.l12</th></tr>\n",
       "\t<tr><th></th><th scope=col>&lt;dbl&gt;</th><th scope=col>&lt;dbl&gt;</th><th scope=col>&lt;dbl&gt;</th><th scope=col>&lt;dbl&gt;</th></tr>\n",
       "</thead>\n",
       "<tbody>\n",
       "\t<tr><th scope=row>90</th><td>-0.039352250</td><td> 0.20</td><td> 0.008110151</td><td> 0.020378728</td></tr>\n",
       "\t<tr><th scope=row>91</th><td>-0.007514865</td><td>-0.24</td><td>-0.039352250</td><td> 0.015730832</td></tr>\n",
       "\t<tr><th scope=row>92</th><td>-0.015436774</td><td>-0.16</td><td>-0.007514865</td><td> 0.003791035</td></tr>\n",
       "\t<tr><th scope=row>93</th><td> 0.019506971</td><td> 0.13</td><td>-0.015436774</td><td>-0.006120439</td></tr>\n",
       "\t<tr><th scope=row>94</th><td> 0.029286369</td><td> 0.28</td><td> 0.019506971</td><td> 0.033013838</td></tr>\n",
       "\t<tr><th scope=row>95</th><td> 0.022437404</td><td> 0.36</td><td> 0.029286369</td><td>-0.030623728</td></tr>\n",
       "</tbody>\n",
       "</table>\n"
      ],
      "text/latex": [
       "A data.frame: 6 × 4\n",
       "\\begin{tabular}{r|llll}\n",
       "  & prod\\_price & infl & price\\_prod.l1 & price\\_prod.l12\\\\\n",
       "  & <dbl> & <dbl> & <dbl> & <dbl>\\\\\n",
       "\\hline\n",
       "\t90 & -0.039352250 &  0.20 &  0.008110151 &  0.020378728\\\\\n",
       "\t91 & -0.007514865 & -0.24 & -0.039352250 &  0.015730832\\\\\n",
       "\t92 & -0.015436774 & -0.16 & -0.007514865 &  0.003791035\\\\\n",
       "\t93 &  0.019506971 &  0.13 & -0.015436774 & -0.006120439\\\\\n",
       "\t94 &  0.029286369 &  0.28 &  0.019506971 &  0.033013838\\\\\n",
       "\t95 &  0.022437404 &  0.36 &  0.029286369 & -0.030623728\\\\\n",
       "\\end{tabular}\n"
      ],
      "text/markdown": [
       "\n",
       "A data.frame: 6 × 4\n",
       "\n",
       "| <!--/--> | prod_price &lt;dbl&gt; | infl &lt;dbl&gt; | price_prod.l1 &lt;dbl&gt; | price_prod.l12 &lt;dbl&gt; |\n",
       "|---|---|---|---|---|\n",
       "| 90 | -0.039352250 |  0.20 |  0.008110151 |  0.020378728 |\n",
       "| 91 | -0.007514865 | -0.24 | -0.039352250 |  0.015730832 |\n",
       "| 92 | -0.015436774 | -0.16 | -0.007514865 |  0.003791035 |\n",
       "| 93 |  0.019506971 |  0.13 | -0.015436774 | -0.006120439 |\n",
       "| 94 |  0.029286369 |  0.28 |  0.019506971 |  0.033013838 |\n",
       "| 95 |  0.022437404 |  0.36 |  0.029286369 | -0.030623728 |\n",
       "\n"
      ],
      "text/plain": [
       "   prod_price   infl  price_prod.l1 price_prod.l12\n",
       "90 -0.039352250  0.20  0.008110151   0.020378728  \n",
       "91 -0.007514865 -0.24 -0.039352250   0.015730832  \n",
       "92 -0.015436774 -0.16 -0.007514865   0.003791035  \n",
       "93  0.019506971  0.13 -0.015436774  -0.006120439  \n",
       "94  0.029286369  0.28  0.019506971   0.033013838  \n",
       "95  0.022437404  0.36  0.029286369  -0.030623728  "
      ]
     },
     "metadata": {},
     "output_type": "display_data"
    }
   ],
   "source": [
    "tail(data)"
   ]
  },
  {
   "cell_type": "markdown",
   "metadata": {},
   "source": [
    "#### Ничего лучше линейной регрессии не придумал "
   ]
  },
  {
   "cell_type": "code",
   "execution_count": 324,
   "metadata": {},
   "outputs": [],
   "source": [
    "m3 <- lm(prod_price ~., data = data)"
   ]
  },
  {
   "cell_type": "code",
   "execution_count": 325,
   "metadata": {
    "scrolled": false
   },
   "outputs": [
    {
     "data": {
      "text/plain": [
       "\n",
       "Call:\n",
       "lm(formula = prod_price ~ ., data = data)\n",
       "\n",
       "Residuals:\n",
       "     Min       1Q   Median       3Q      Max \n",
       "-0.71176 -0.04792 -0.00291  0.04754  0.56306 \n",
       "\n",
       "Coefficients:\n",
       "                Estimate Std. Error t value Pr(>|t|)   \n",
       "(Intercept)     0.070619   0.026133   2.702  0.00853 **\n",
       "infl           -0.170358   0.053579  -3.180  0.00215 **\n",
       "exr            -0.190547   0.390211  -0.488  0.62677   \n",
       "infl.l1         0.007429   0.053705   0.138  0.89036   \n",
       "infl.l12        0.027453   0.037895   0.724  0.47107   \n",
       "price_prod.l1  -0.149838   0.126798  -1.182  0.24110   \n",
       "price_prod.l12 -0.186768   0.118948  -1.570  0.12064   \n",
       "exr.l1          0.229170   0.377093   0.608  0.54523   \n",
       "exr.l12        -0.404261   0.335936  -1.203  0.23266   \n",
       "---\n",
       "Signif. codes:  0 '***' 0.001 '**' 0.01 '*' 0.05 '.' 0.1 ' ' 1\n",
       "\n",
       "Residual standard error: 0.1399 on 74 degrees of freedom\n",
       "Multiple R-squared:  0.4006,\tAdjusted R-squared:  0.3358 \n",
       "F-statistic: 6.182 on 8 and 74 DF,  p-value: 4.274e-06\n"
      ]
     },
     "metadata": {},
     "output_type": "display_data"
    }
   ],
   "source": [
    "summary(m3)"
   ]
  },
  {
   "cell_type": "code",
   "execution_count": 329,
   "metadata": {},
   "outputs": [],
   "source": [
    "data$infl.l1 <- NULL\n",
    "data$exr.l1 <- NULL\n",
    "data$exr <- NULL\n",
    "data$infl.l12 <- NULL\n",
    "data$exr.l12 <- NULL"
   ]
  },
  {
   "cell_type": "code",
   "execution_count": 330,
   "metadata": {},
   "outputs": [],
   "source": [
    "m4 <- lm(prod_price ~., data = data)"
   ]
  },
  {
   "cell_type": "code",
   "execution_count": 331,
   "metadata": {},
   "outputs": [
    {
     "data": {
      "text/plain": [
       "\n",
       "Call:\n",
       "lm(formula = prod_price ~ ., data = data)\n",
       "\n",
       "Residuals:\n",
       "     Min       1Q   Median       3Q      Max \n",
       "-0.74375 -0.04637 -0.00362  0.04055  0.57678 \n",
       "\n",
       "Coefficients:\n",
       "               Estimate Std. Error t value Pr(>|t|)    \n",
       "(Intercept)     0.08302    0.02095   3.963 0.000162 ***\n",
       "infl           -0.16393    0.02797  -5.862 1.01e-07 ***\n",
       "price_prod.l1  -0.19481    0.09151  -2.129 0.036385 *  \n",
       "price_prod.l12 -0.20604    0.08748  -2.355 0.020985 *  \n",
       "---\n",
       "Signif. codes:  0 '***' 0.001 '**' 0.01 '*' 0.05 '.' 0.1 ' ' 1\n",
       "\n",
       "Residual standard error: 0.1376 on 79 degrees of freedom\n",
       "Multiple R-squared:  0.3811,\tAdjusted R-squared:  0.3576 \n",
       "F-statistic: 16.22 on 3 and 79 DF,  p-value: 2.645e-08\n"
      ]
     },
     "metadata": {},
     "output_type": "display_data"
    }
   ],
   "source": [
    "summary(m4)"
   ]
  },
  {
   "cell_type": "markdown",
   "metadata": {},
   "source": [
    "#### Курс, как оказалось, совсем не влияет на цены, что странно"
   ]
  },
  {
   "cell_type": "code",
   "execution_count": 333,
   "metadata": {},
   "outputs": [
    {
     "data": {
      "image/png": "[encoded data removed]",
      "text/plain": [
       "plot without title"
      ]
     },
     "metadata": {
      "image/png": {
       "height": 420,
       "width": 420
      },
      "text/plain": {
       "height": 420,
       "width": 420
      }
     },
     "output_type": "display_data"
    }
   ],
   "source": [
    "plot(predict(m4))"
   ]
  },
  {
   "cell_type": "code",
   "execution_count": 334,
   "metadata": {},
   "outputs": [
    {
     "data": {
      "text/html": [
       "<table>\n",
       "<caption>A data.frame: 83 × 4</caption>\n",
       "<thead>\n",
       "\t<tr><th></th><th scope=col>prod_price</th><th scope=col>infl</th><th scope=col>price_prod.l1</th><th scope=col>price_prod.l12</th></tr>\n",
       "\t<tr><th></th><th scope=col>&lt;dbl&gt;</th><th scope=col>&lt;dbl&gt;</th><th scope=col>&lt;dbl&gt;</th><th scope=col>&lt;dbl&gt;</th></tr>\n",
       "</thead>\n",
       "<tbody>\n",
       "\t<tr><th scope=row>13</th><td> 0.051206376</td><td>0.56</td><td>-0.020593462</td><td> 0.164454163</td></tr>\n",
       "\t<tr><th scope=row>14</th><td> 0.033363413</td><td>0.34</td><td> 0.051206376</td><td> 0.200267499</td></tr>\n",
       "\t<tr><th scope=row>15</th><td>-0.006522789</td><td>0.51</td><td> 0.033363413</td><td>-0.049063189</td></tr>\n",
       "\t<tr><th scope=row>16</th><td> 0.027677339</td><td>0.66</td><td>-0.006522789</td><td> 0.126425345</td></tr>\n",
       "\t<tr><th scope=row>17</th><td> 0.037952592</td><td>0.42</td><td> 0.027677339</td><td>-0.108809161</td></tr>\n",
       "\t<tr><th scope=row>18</th><td>-0.047396291</td><td>0.82</td><td> 0.037952592</td><td> 0.124756951</td></tr>\n",
       "\t<tr><th scope=row>19</th><td> 0.079528498</td><td>0.14</td><td>-0.047396291</td><td>-0.067167887</td></tr>\n",
       "\t<tr><th scope=row>20</th><td> 0.030898904</td><td>0.21</td><td> 0.079528498</td><td>-0.008748100</td></tr>\n",
       "\t<tr><th scope=row>21</th><td> 0.124283937</td><td>0.57</td><td> 0.030898904</td><td>-0.190737743</td></tr>\n",
       "\t<tr><th scope=row>22</th><td>-0.095331875</td><td>0.56</td><td> 0.124283937</td><td> 0.171896590</td></tr>\n",
       "\t<tr><th scope=row>23</th><td> 0.164225155</td><td>0.51</td><td>-0.095331875</td><td>-0.049962316</td></tr>\n",
       "\t<tr><th scope=row>24</th><td> 0.535337109</td><td>0.59</td><td> 0.164225155</td><td>-0.020593462</td></tr>\n",
       "\t<tr><th scope=row>25</th><td>-0.034749863</td><td>0.70</td><td> 0.535337109</td><td> 0.051206376</td></tr>\n",
       "\t<tr><th scope=row>26</th><td> 0.067489701</td><td>1.02</td><td>-0.034749863</td><td> 0.033363413</td></tr>\n",
       "\t<tr><th scope=row>27</th><td> 0.039331247</td><td>0.90</td><td> 0.067489701</td><td>-0.006522789</td></tr>\n",
       "\t<tr><th scope=row>28</th><td> 0.007588334</td><td>0.90</td><td> 0.039331247</td><td> 0.027677339</td></tr>\n",
       "\t<tr><th scope=row>29</th><td> 0.012318956</td><td>0.62</td><td> 0.007588334</td><td> 0.037952592</td></tr>\n",
       "\t<tr><th scope=row>30</th><td>-0.036206557</td><td>0.49</td><td> 0.012318956</td><td>-0.047396291</td></tr>\n",
       "\t<tr><th scope=row>31</th><td> 0.062936516</td><td>0.24</td><td>-0.036206557</td><td> 0.079528498</td></tr>\n",
       "\t<tr><th scope=row>32</th><td>-0.010957064</td><td>0.65</td><td> 0.062936516</td><td> 0.030898904</td></tr>\n",
       "\t<tr><th scope=row>33</th><td> 0.008628042</td><td>0.82</td><td>-0.010957064</td><td> 0.124283937</td></tr>\n",
       "\t<tr><th scope=row>34</th><td> 0.047709970</td><td>1.28</td><td> 0.008628042</td><td>-0.095331875</td></tr>\n",
       "\t<tr><th scope=row>35</th><td> 0.050832529</td><td>2.62</td><td> 0.047709970</td><td> 0.164225155</td></tr>\n",
       "\t<tr><th scope=row>36</th><td>-1.412047770</td><td>3.85</td><td> 0.050832529</td><td> 0.535337109</td></tr>\n",
       "\t<tr><th scope=row>37</th><td> 0.106698699</td><td>2.22</td><td>-1.412047770</td><td>-0.034749863</td></tr>\n",
       "\t<tr><th scope=row>38</th><td>-0.049708902</td><td>1.21</td><td> 0.106698699</td><td> 0.067489701</td></tr>\n",
       "\t<tr><th scope=row>39</th><td> 0.001622845</td><td>0.46</td><td>-0.049708902</td><td> 0.039331247</td></tr>\n",
       "\t<tr><th scope=row>40</th><td> 0.030474414</td><td>0.35</td><td> 0.001622845</td><td> 0.007588334</td></tr>\n",
       "\t<tr><th scope=row>41</th><td> 0.012743929</td><td>0.19</td><td> 0.030474414</td><td> 0.012318956</td></tr>\n",
       "\t<tr><th scope=row>42</th><td>-0.013880745</td><td>0.80</td><td> 0.012743929</td><td>-0.036206557</td></tr>\n",
       "\t<tr><th scope=row>...</th><td>...</td><td>...</td><td>...</td><td>...</td></tr>\n",
       "\t<tr><th scope=row>66</th><td>-0.001520487</td><td> 0.07</td><td> 0.033720972</td><td> 0.0124399121</td></tr>\n",
       "\t<tr><th scope=row>67</th><td>-0.011698646</td><td>-0.54</td><td>-0.001520487</td><td>-0.0133043188</td></tr>\n",
       "\t<tr><th scope=row>68</th><td> 0.006156931</td><td>-0.15</td><td>-0.011698646</td><td>-0.0075372239</td></tr>\n",
       "\t<tr><th scope=row>69</th><td> 0.024185090</td><td> 0.20</td><td> 0.006156931</td><td> 0.0146629180</td></tr>\n",
       "\t<tr><th scope=row>70</th><td>-0.061454616</td><td> 0.22</td><td> 0.024185090</td><td> 0.0059947512</td></tr>\n",
       "\t<tr><th scope=row>71</th><td> 0.050390250</td><td> 0.42</td><td>-0.061454616</td><td> 0.0207106361</td></tr>\n",
       "\t<tr><th scope=row>72</th><td> 0.047058556</td><td> 0.31</td><td> 0.050390250</td><td>-0.0295317069</td></tr>\n",
       "\t<tr><th scope=row>73</th><td>-0.042648771</td><td> 0.21</td><td> 0.047058556</td><td>-0.0636107697</td></tr>\n",
       "\t<tr><th scope=row>74</th><td> 0.019353028</td><td> 0.29</td><td>-0.042648771</td><td>-0.0127297026</td></tr>\n",
       "\t<tr><th scope=row>75</th><td>-0.010783410</td><td> 0.38</td><td> 0.019353028</td><td> 0.0007985778</td></tr>\n",
       "\t<tr><th scope=row>76</th><td>-0.049260301</td><td> 0.38</td><td>-0.010783410</td><td>-0.0494246472</td></tr>\n",
       "\t<tr><th scope=row>77</th><td> 0.022782192</td><td> 0.49</td><td>-0.049260301</td><td> 0.0337209721</td></tr>\n",
       "\t<tr><th scope=row>78</th><td> 0.020378728</td><td> 0.27</td><td> 0.022782192</td><td>-0.0015204875</td></tr>\n",
       "\t<tr><th scope=row>79</th><td> 0.015730832</td><td> 0.01</td><td> 0.020378728</td><td>-0.0116986455</td></tr>\n",
       "\t<tr><th scope=row>80</th><td> 0.003791035</td><td> 0.16</td><td> 0.015730832</td><td> 0.0061569311</td></tr>\n",
       "\t<tr><th scope=row>81</th><td>-0.006120439</td><td> 0.35</td><td> 0.003791035</td><td> 0.0241850899</td></tr>\n",
       "\t<tr><th scope=row>82</th><td> 0.033013838</td><td> 0.50</td><td>-0.006120439</td><td>-0.0614546158</td></tr>\n",
       "\t<tr><th scope=row>83</th><td>-0.030623728</td><td> 0.84</td><td> 0.033013838</td><td> 0.0503902499</td></tr>\n",
       "\t<tr><th scope=row>84</th><td> 0.001395605</td><td> 1.01</td><td>-0.030623728</td><td> 0.0470585558</td></tr>\n",
       "\t<tr><th scope=row>85</th><td> 0.043126254</td><td> 0.44</td><td> 0.001395605</td><td>-0.0426487715</td></tr>\n",
       "\t<tr><th scope=row>86</th><td>-0.004205788</td><td> 0.32</td><td> 0.043126254</td><td> 0.0193530280</td></tr>\n",
       "\t<tr><th scope=row>87</th><td> 0.008779336</td><td> 0.29</td><td>-0.004205788</td><td>-0.0107834101</td></tr>\n",
       "\t<tr><th scope=row>88</th><td>-0.036893931</td><td> 0.34</td><td> 0.008779336</td><td>-0.0492603009</td></tr>\n",
       "\t<tr><th scope=row>89</th><td> 0.008110151</td><td> 0.04</td><td>-0.036893931</td><td> 0.0227821920</td></tr>\n",
       "\t<tr><th scope=row>90</th><td>-0.039352250</td><td> 0.20</td><td> 0.008110151</td><td> 0.0203787282</td></tr>\n",
       "\t<tr><th scope=row>91</th><td>-0.007514865</td><td>-0.24</td><td>-0.039352250</td><td> 0.0157308324</td></tr>\n",
       "\t<tr><th scope=row>92</th><td>-0.015436774</td><td>-0.16</td><td>-0.007514865</td><td> 0.0037910346</td></tr>\n",
       "\t<tr><th scope=row>93</th><td> 0.019506971</td><td> 0.13</td><td>-0.015436774</td><td>-0.0061204394</td></tr>\n",
       "\t<tr><th scope=row>94</th><td> 0.029286369</td><td> 0.28</td><td> 0.019506971</td><td> 0.0330138380</td></tr>\n",
       "\t<tr><th scope=row>95</th><td> 0.022437404</td><td> 0.36</td><td> 0.029286369</td><td>-0.0306237280</td></tr>\n",
       "</tbody>\n",
       "</table>\n"
      ],
      "text/latex": [
       "A data.frame: 83 × 4\n",
       "\\begin{tabular}{r|llll}\n",
       "  & prod\\_price & infl & price\\_prod.l1 & price\\_prod.l12\\\\\n",
       "  & <dbl> & <dbl> & <dbl> & <dbl>\\\\\n",
       "\\hline\n",
       "\t13 &  0.051206376 & 0.56 & -0.020593462 &  0.164454163\\\\\n",
       "\t14 &  0.033363413 & 0.34 &  0.051206376 &  0.200267499\\\\\n",
       "\t15 & -0.006522789 & 0.51 &  0.033363413 & -0.049063189\\\\\n",
       "\t16 &  0.027677339 & 0.66 & -0.006522789 &  0.126425345\\\\\n",
       "\t17 &  0.037952592 & 0.42 &  0.027677339 & -0.108809161\\\\\n",
       "\t18 & -0.047396291 & 0.82 &  0.037952592 &  0.124756951\\\\\n",
       "\t19 &  0.079528498 & 0.14 & -0.047396291 & -0.067167887\\\\\n",
       "\t20 &  0.030898904 & 0.21 &  0.079528498 & -0.008748100\\\\\n",
       "\t21 &  0.124283937 & 0.57 &  0.030898904 & -0.190737743\\\\\n",
       "\t22 & -0.095331875 & 0.56 &  0.124283937 &  0.171896590\\\\\n",
       "\t23 &  0.164225155 & 0.51 & -0.095331875 & -0.049962316\\\\\n",
       "\t24 &  0.535337109 & 0.59 &  0.164225155 & -0.020593462\\\\\n",
       "\t25 & -0.034749863 & 0.70 &  0.535337109 &  0.051206376\\\\\n",
       "\t26 &  0.067489701 & 1.02 & -0.034749863 &  0.033363413\\\\\n",
       "\t27 &  0.039331247 & 0.90 &  0.067489701 & -0.006522789\\\\\n",
       "\t28 &  0.007588334 & 0.90 &  0.039331247 &  0.027677339\\\\\n",
       "\t29 &  0.012318956 & 0.62 &  0.007588334 &  0.037952592\\\\\n",
       "\t30 & -0.036206557 & 0.49 &  0.012318956 & -0.047396291\\\\\n",
       "\t31 &  0.062936516 & 0.24 & -0.036206557 &  0.079528498\\\\\n",
       "\t32 & -0.010957064 & 0.65 &  0.062936516 &  0.030898904\\\\\n",
       "\t33 &  0.008628042 & 0.82 & -0.010957064 &  0.124283937\\\\\n",
       "\t34 &  0.047709970 & 1.28 &  0.008628042 & -0.095331875\\\\\n",
       "\t35 &  0.050832529 & 2.62 &  0.047709970 &  0.164225155\\\\\n",
       "\t36 & -1.412047770 & 3.85 &  0.050832529 &  0.535337109\\\\\n",
       "\t37 &  0.106698699 & 2.22 & -1.412047770 & -0.034749863\\\\\n",
       "\t38 & -0.049708902 & 1.21 &  0.106698699 &  0.067489701\\\\\n",
       "\t39 &  0.001622845 & 0.46 & -0.049708902 &  0.039331247\\\\\n",
       "\t40 &  0.030474414 & 0.35 &  0.001622845 &  0.007588334\\\\\n",
       "\t41 &  0.012743929 & 0.19 &  0.030474414 &  0.012318956\\\\\n",
       "\t42 & -0.013880745 & 0.80 &  0.012743929 & -0.036206557\\\\\n",
       "\t... & ... & ... & ... & ...\\\\\n",
       "\t66 & -0.001520487 &  0.07 &  0.033720972 &  0.0124399121\\\\\n",
       "\t67 & -0.011698646 & -0.54 & -0.001520487 & -0.0133043188\\\\\n",
       "\t68 &  0.006156931 & -0.15 & -0.011698646 & -0.0075372239\\\\\n",
       "\t69 &  0.024185090 &  0.20 &  0.006156931 &  0.0146629180\\\\\n",
       "\t70 & -0.061454616 &  0.22 &  0.024185090 &  0.0059947512\\\\\n",
       "\t71 &  0.050390250 &  0.42 & -0.061454616 &  0.0207106361\\\\\n",
       "\t72 &  0.047058556 &  0.31 &  0.050390250 & -0.0295317069\\\\\n",
       "\t73 & -0.042648771 &  0.21 &  0.047058556 & -0.0636107697\\\\\n",
       "\t74 &  0.019353028 &  0.29 & -0.042648771 & -0.0127297026\\\\\n",
       "\t75 & -0.010783410 &  0.38 &  0.019353028 &  0.0007985778\\\\\n",
       "\t76 & -0.049260301 &  0.38 & -0.010783410 & -0.0494246472\\\\\n",
       "\t77 &  0.022782192 &  0.49 & -0.049260301 &  0.0337209721\\\\\n",
       "\t78 &  0.020378728 &  0.27 &  0.022782192 & -0.0015204875\\\\\n",
       "\t79 &  0.015730832 &  0.01 &  0.020378728 & -0.0116986455\\\\\n",
       "\t80 &  0.003791035 &  0.16 &  0.015730832 &  0.0061569311\\\\\n",
       "\t81 & -0.006120439 &  0.35 &  0.003791035 &  0.0241850899\\\\\n",
       "\t82 &  0.033013838 &  0.50 & -0.006120439 & -0.0614546158\\\\\n",
       "\t83 & -0.030623728 &  0.84 &  0.033013838 &  0.0503902499\\\\\n",
       "\t84 &  0.001395605 &  1.01 & -0.030623728 &  0.0470585558\\\\\n",
       "\t85 &  0.043126254 &  0.44 &  0.001395605 & -0.0426487715\\\\\n",
       "\t86 & -0.004205788 &  0.32 &  0.043126254 &  0.0193530280\\\\\n",
       "\t87 &  0.008779336 &  0.29 & -0.004205788 & -0.0107834101\\\\\n",
       "\t88 & -0.036893931 &  0.34 &  0.008779336 & -0.0492603009\\\\\n",
       "\t89 &  0.008110151 &  0.04 & -0.036893931 &  0.0227821920\\\\\n",
       "\t90 & -0.039352250 &  0.20 &  0.008110151 &  0.0203787282\\\\\n",
       "\t91 & -0.007514865 & -0.24 & -0.039352250 &  0.0157308324\\\\\n",
       "\t92 & -0.015436774 & -0.16 & -0.007514865 &  0.0037910346\\\\\n",
       "\t93 &  0.019506971 &  0.13 & -0.015436774 & -0.0061204394\\\\\n",
       "\t94 &  0.029286369 &  0.28 &  0.019506971 &  0.0330138380\\\\\n",
       "\t95 &  0.022437404 &  0.36 &  0.029286369 & -0.0306237280\\\\\n",
       "\\end{tabular}\n"
      ],
      "text/markdown": [
       "\n",
       "A data.frame: 83 × 4\n",
       "\n",
       "| <!--/--> | prod_price &lt;dbl&gt; | infl &lt;dbl&gt; | price_prod.l1 &lt;dbl&gt; | price_prod.l12 &lt;dbl&gt; |\n",
       "|---|---|---|---|---|\n",
       "| 13 |  0.051206376 | 0.56 | -0.020593462 |  0.164454163 |\n",
       "| 14 |  0.033363413 | 0.34 |  0.051206376 |  0.200267499 |\n",
       "| 15 | -0.006522789 | 0.51 |  0.033363413 | -0.049063189 |\n",
       "| 16 |  0.027677339 | 0.66 | -0.006522789 |  0.126425345 |\n",
       "| 17 |  0.037952592 | 0.42 |  0.027677339 | -0.108809161 |\n",
       "| 18 | -0.047396291 | 0.82 |  0.037952592 |  0.124756951 |\n",
       "| 19 |  0.079528498 | 0.14 | -0.047396291 | -0.067167887 |\n",
       "| 20 |  0.030898904 | 0.21 |  0.079528498 | -0.008748100 |\n",
       "| 21 |  0.124283937 | 0.57 |  0.030898904 | -0.190737743 |\n",
       "| 22 | -0.095331875 | 0.56 |  0.124283937 |  0.171896590 |\n",
       "| 23 |  0.164225155 | 0.51 | -0.095331875 | -0.049962316 |\n",
       "| 24 |  0.535337109 | 0.59 |  0.164225155 | -0.020593462 |\n",
       "| 25 | -0.034749863 | 0.70 |  0.535337109 |  0.051206376 |\n",
       "| 26 |  0.067489701 | 1.02 | -0.034749863 |  0.033363413 |\n",
       "| 27 |  0.039331247 | 0.90 |  0.067489701 | -0.006522789 |\n",
       "| 28 |  0.007588334 | 0.90 |  0.039331247 |  0.027677339 |\n",
       "| 29 |  0.012318956 | 0.62 |  0.007588334 |  0.037952592 |\n",
       "| 30 | -0.036206557 | 0.49 |  0.012318956 | -0.047396291 |\n",
       "| 31 |  0.062936516 | 0.24 | -0.036206557 |  0.079528498 |\n",
       "| 32 | -0.010957064 | 0.65 |  0.062936516 |  0.030898904 |\n",
       "| 33 |  0.008628042 | 0.82 | -0.010957064 |  0.124283937 |\n",
       "| 34 |  0.047709970 | 1.28 |  0.008628042 | -0.095331875 |\n",
       "| 35 |  0.050832529 | 2.62 |  0.047709970 |  0.164225155 |\n",
       "| 36 | -1.412047770 | 3.85 |  0.050832529 |  0.535337109 |\n",
       "| 37 |  0.106698699 | 2.22 | -1.412047770 | -0.034749863 |\n",
       "| 38 | -0.049708902 | 1.21 |  0.106698699 |  0.067489701 |\n",
       "| 39 |  0.001622845 | 0.46 | -0.049708902 |  0.039331247 |\n",
       "| 40 |  0.030474414 | 0.35 |  0.001622845 |  0.007588334 |\n",
       "| 41 |  0.012743929 | 0.19 |  0.030474414 |  0.012318956 |\n",
       "| 42 | -0.013880745 | 0.80 |  0.012743929 | -0.036206557 |\n",
       "| ... | ... | ... | ... | ... |\n",
       "| 66 | -0.001520487 |  0.07 |  0.033720972 |  0.0124399121 |\n",
       "| 67 | -0.011698646 | -0.54 | -0.001520487 | -0.0133043188 |\n",
       "| 68 |  0.006156931 | -0.15 | -0.011698646 | -0.0075372239 |\n",
       "| 69 |  0.024185090 |  0.20 |  0.006156931 |  0.0146629180 |\n",
       "| 70 | -0.061454616 |  0.22 |  0.024185090 |  0.0059947512 |\n",
       "| 71 |  0.050390250 |  0.42 | -0.061454616 |  0.0207106361 |\n",
       "| 72 |  0.047058556 |  0.31 |  0.050390250 | -0.0295317069 |\n",
       "| 73 | -0.042648771 |  0.21 |  0.047058556 | -0.0636107697 |\n",
       "| 74 |  0.019353028 |  0.29 | -0.042648771 | -0.0127297026 |\n",
       "| 75 | -0.010783410 |  0.38 |  0.019353028 |  0.0007985778 |\n",
       "| 76 | -0.049260301 |  0.38 | -0.010783410 | -0.0494246472 |\n",
       "| 77 |  0.022782192 |  0.49 | -0.049260301 |  0.0337209721 |\n",
       "| 78 |  0.020378728 |  0.27 |  0.022782192 | -0.0015204875 |\n",
       "| 79 |  0.015730832 |  0.01 |  0.020378728 | -0.0116986455 |\n",
       "| 80 |  0.003791035 |  0.16 |  0.015730832 |  0.0061569311 |\n",
       "| 81 | -0.006120439 |  0.35 |  0.003791035 |  0.0241850899 |\n",
       "| 82 |  0.033013838 |  0.50 | -0.006120439 | -0.0614546158 |\n",
       "| 83 | -0.030623728 |  0.84 |  0.033013838 |  0.0503902499 |\n",
       "| 84 |  0.001395605 |  1.01 | -0.030623728 |  0.0470585558 |\n",
       "| 85 |  0.043126254 |  0.44 |  0.001395605 | -0.0426487715 |\n",
       "| 86 | -0.004205788 |  0.32 |  0.043126254 |  0.0193530280 |\n",
       "| 87 |  0.008779336 |  0.29 | -0.004205788 | -0.0107834101 |\n",
       "| 88 | -0.036893931 |  0.34 |  0.008779336 | -0.0492603009 |\n",
       "| 89 |  0.008110151 |  0.04 | -0.036893931 |  0.0227821920 |\n",
       "| 90 | -0.039352250 |  0.20 |  0.008110151 |  0.0203787282 |\n",
       "| 91 | -0.007514865 | -0.24 | -0.039352250 |  0.0157308324 |\n",
       "| 92 | -0.015436774 | -0.16 | -0.007514865 |  0.0037910346 |\n",
       "| 93 |  0.019506971 |  0.13 | -0.015436774 | -0.0061204394 |\n",
       "| 94 |  0.029286369 |  0.28 |  0.019506971 |  0.0330138380 |\n",
       "| 95 |  0.022437404 |  0.36 |  0.029286369 | -0.0306237280 |\n",
       "\n"
      ],
      "text/plain": [
       "    prod_price   infl  price_prod.l1 price_prod.l12\n",
       "13   0.051206376 0.56  -0.020593462   0.164454163  \n",
       "14   0.033363413 0.34   0.051206376   0.200267499  \n",
       "15  -0.006522789 0.51   0.033363413  -0.049063189  \n",
       "16   0.027677339 0.66  -0.006522789   0.126425345  \n",
       "17   0.037952592 0.42   0.027677339  -0.108809161  \n",
       "18  -0.047396291 0.82   0.037952592   0.124756951  \n",
       "19   0.079528498 0.14  -0.047396291  -0.067167887  \n",
       "20   0.030898904 0.21   0.079528498  -0.008748100  \n",
       "21   0.124283937 0.57   0.030898904  -0.190737743  \n",
       "22  -0.095331875 0.56   0.124283937   0.171896590  \n",
       "23   0.164225155 0.51  -0.095331875  -0.049962316  \n",
       "24   0.535337109 0.59   0.164225155  -0.020593462  \n",
       "25  -0.034749863 0.70   0.535337109   0.051206376  \n",
       "26   0.067489701 1.02  -0.034749863   0.033363413  \n",
       "27   0.039331247 0.90   0.067489701  -0.006522789  \n",
       "28   0.007588334 0.90   0.039331247   0.027677339  \n",
       "29   0.012318956 0.62   0.007588334   0.037952592  \n",
       "30  -0.036206557 0.49   0.012318956  -0.047396291  \n",
       "31   0.062936516 0.24  -0.036206557   0.079528498  \n",
       "32  -0.010957064 0.65   0.062936516   0.030898904  \n",
       "33   0.008628042 0.82  -0.010957064   0.124283937  \n",
       "34   0.047709970 1.28   0.008628042  -0.095331875  \n",
       "35   0.050832529 2.62   0.047709970   0.164225155  \n",
       "36  -1.412047770 3.85   0.050832529   0.535337109  \n",
       "37   0.106698699 2.22  -1.412047770  -0.034749863  \n",
       "38  -0.049708902 1.21   0.106698699   0.067489701  \n",
       "39   0.001622845 0.46  -0.049708902   0.039331247  \n",
       "40   0.030474414 0.35   0.001622845   0.007588334  \n",
       "41   0.012743929 0.19   0.030474414   0.012318956  \n",
       "42  -0.013880745 0.80   0.012743929  -0.036206557  \n",
       "... ...          ...   ...           ...           \n",
       "66  -0.001520487  0.07  0.033720972   0.0124399121 \n",
       "67  -0.011698646 -0.54 -0.001520487  -0.0133043188 \n",
       "68   0.006156931 -0.15 -0.011698646  -0.0075372239 \n",
       "69   0.024185090  0.20  0.006156931   0.0146629180 \n",
       "70  -0.061454616  0.22  0.024185090   0.0059947512 \n",
       "71   0.050390250  0.42 -0.061454616   0.0207106361 \n",
       "72   0.047058556  0.31  0.050390250  -0.0295317069 \n",
       "73  -0.042648771  0.21  0.047058556  -0.0636107697 \n",
       "74   0.019353028  0.29 -0.042648771  -0.0127297026 \n",
       "75  -0.010783410  0.38  0.019353028   0.0007985778 \n",
       "76  -0.049260301  0.38 -0.010783410  -0.0494246472 \n",
       "77   0.022782192  0.49 -0.049260301   0.0337209721 \n",
       "78   0.020378728  0.27  0.022782192  -0.0015204875 \n",
       "79   0.015730832  0.01  0.020378728  -0.0116986455 \n",
       "80   0.003791035  0.16  0.015730832   0.0061569311 \n",
       "81  -0.006120439  0.35  0.003791035   0.0241850899 \n",
       "82   0.033013838  0.50 -0.006120439  -0.0614546158 \n",
       "83  -0.030623728  0.84  0.033013838   0.0503902499 \n",
       "84   0.001395605  1.01 -0.030623728   0.0470585558 \n",
       "85   0.043126254  0.44  0.001395605  -0.0426487715 \n",
       "86  -0.004205788  0.32  0.043126254   0.0193530280 \n",
       "87   0.008779336  0.29 -0.004205788  -0.0107834101 \n",
       "88  -0.036893931  0.34  0.008779336  -0.0492603009 \n",
       "89   0.008110151  0.04 -0.036893931   0.0227821920 \n",
       "90  -0.039352250  0.20  0.008110151   0.0203787282 \n",
       "91  -0.007514865 -0.24 -0.039352250   0.0157308324 \n",
       "92  -0.015436774 -0.16 -0.007514865   0.0037910346 \n",
       "93   0.019506971  0.13 -0.015436774  -0.0061204394 \n",
       "94   0.029286369  0.28  0.019506971   0.0330138380 \n",
       "95   0.022437404  0.36  0.029286369  -0.0306237280 "
      ]
     },
     "metadata": {},
     "output_type": "display_data"
    }
   ],
   "source": [
    "data"
   ]
  },
  {
   "cell_type": "markdown",
   "metadata": {},
   "source": [
    "#### Без прогноза по инфляции ничего не получится, ну ладно, сделаем сами "
   ]
  },
  {
   "cell_type": "code",
   "execution_count": 338,
   "metadata": {
    "collapsed": true
   },
   "outputs": [
    {
     "name": "stderr",
     "output_type": "stream",
     "text": [
      "Loading required package: fGarch\n",
      "\n",
      "Warning message:\n",
      "\"package 'fGarch' was built under R version 3.6.3\"\n",
      "Loading required package: timeDate\n",
      "\n",
      "Loading required package: timeSeries\n",
      "\n",
      "Warning message:\n",
      "\"package 'timeSeries' was built under R version 3.6.3\"\n",
      "\n",
      "Attaching package: 'timeSeries'\n",
      "\n",
      "\n",
      "The following object is masked from 'package:zoo':\n",
      "\n",
      "    time<-\n",
      "\n",
      "\n",
      "Loading required package: fBasics\n",
      "\n",
      "Warning message:\n",
      "\"package 'fBasics' was built under R version 3.6.3\"\n",
      "Loading required package: parallel\n",
      "\n"
     ]
    }
   ],
   "source": [
    "m1 <- garchAuto(infl)"
   ]
  },
  {
   "cell_type": "code",
   "execution_count": 339,
   "metadata": {},
   "outputs": [
    {
     "name": "stdout",
     "output_type": "stream",
     "text": [
      "\n",
      "Title:\n",
      " GARCH Modelling \n",
      "\n",
      "Call:\n",
      " garchFit(formula = formula, data = data, cond.dist = ll$dist, \n",
      "    trace = FALSE) \n",
      "\n",
      "Mean and Variance Equation:\n",
      " data ~ arma(1, 5) + garch(2, 1)\n",
      "<environment: 0x000000000908b408>\n",
      " [data = data]\n",
      "\n",
      "Conditional Distribution:\n",
      " sged \n",
      "\n",
      "Coefficient(s):\n",
      "         mu          ar1          ma1          ma2          ma3          ma4  \n",
      " 0.41059591   0.05836679   0.54154026   0.24770919   0.10097378   0.03362120  \n",
      "        ma5        omega       alpha1       alpha2        beta1         skew  \n",
      "-0.13167851   0.03499315   0.74163495   0.00000001   0.00000001   1.01213803  \n",
      "      shape  \n",
      " 1.00000000  \n",
      "\n",
      "Std. Errors:\n",
      " based on Hessian \n",
      "\n",
      "Error Analysis:\n",
      "         Estimate  Std. Error  t value Pr(>|t|)    \n",
      "mu      4.106e-01   1.053e-02   39.004  < 2e-16 ***\n",
      "ar1     5.837e-02   1.728e-02    3.377 0.000733 ***\n",
      "ma1     5.415e-01   1.364e-02   39.716  < 2e-16 ***\n",
      "ma2     2.477e-01   1.354e-02   18.292  < 2e-16 ***\n",
      "ma3     1.010e-01   1.070e-02    9.438  < 2e-16 ***\n",
      "ma4     3.362e-02   1.022e-02    3.291 0.000997 ***\n",
      "ma5    -1.317e-01   8.697e-03  -15.140  < 2e-16 ***\n",
      "omega   3.499e-02   9.007e-03    3.885 0.000102 ***\n",
      "alpha1  7.416e-01   2.664e-01    2.784 0.005363 ** \n",
      "alpha2  1.000e-08   5.997e-02    0.000 1.000000    \n",
      "beta1   1.000e-08   8.282e-02    0.000 1.000000    \n",
      "skew    1.012e+00   1.716e-02   58.971  < 2e-16 ***\n",
      "shape   1.000e+00   2.366e-01    4.227 2.37e-05 ***\n",
      "---\n",
      "Signif. codes:  0 '***' 0.001 '**' 0.01 '*' 0.05 '.' 0.1 ' ' 1\n",
      "\n",
      "Log Likelihood:\n",
      " 0.0525782    normalized:  0.0005534548 \n",
      "\n",
      "Description:\n",
      " Tue Apr 14 03:34:50 2020 by user: Митя \n",
      "\n",
      "\n",
      "Standardised Residuals Tests:\n",
      "                                Statistic p-Value     \n",
      " Jarque-Bera Test   R    Chi^2  23.37168  8.412085e-06\n",
      " Shapiro-Wilk Test  R    W      0.9512656 0.001416896 \n",
      " Ljung-Box Test     R    Q(10)  12.61669  0.2458996   \n",
      " Ljung-Box Test     R    Q(15)  25.42926  0.04446719  \n",
      " Ljung-Box Test     R    Q(20)  27.90356  0.111702    \n",
      " Ljung-Box Test     R^2  Q(10)  3.957359  0.9492501   \n",
      " Ljung-Box Test     R^2  Q(15)  5.584263  0.9859175   \n",
      " Ljung-Box Test     R^2  Q(20)  7.640422  0.993992    \n",
      " LM Arch Test       R    TR^2   5.874355  0.9222827   \n",
      "\n",
      "Information Criterion Statistics:\n",
      "      AIC       BIC       SIC      HQIC \n",
      "0.2725773 0.6220552 0.2408067 0.4137926 \n",
      "\n"
     ]
    }
   ],
   "source": [
    "summary(m1)"
   ]
  },
  {
   "cell_type": "code",
   "execution_count": 341,
   "metadata": {},
   "outputs": [],
   "source": [
    "infl_pred <- predict(m1, n.ahead = 12)[,1]"
   ]
  },
  {
   "cell_type": "code",
   "execution_count": 344,
   "metadata": {},
   "outputs": [
    {
     "data": {
      "text/html": [
       "0.0224374036522104"
      ],
      "text/latex": [
       "0.0224374036522104"
      ],
      "text/markdown": [
       "0.0224374036522104"
      ],
      "text/plain": [
       "[1] 0.0224374"
      ]
     },
     "metadata": {},
     "output_type": "display_data"
    }
   ],
   "source": [
    "data[83,1]"
   ]
  },
  {
   "cell_type": "code",
   "execution_count": 376,
   "metadata": {},
   "outputs": [],
   "source": [
    "pred_prod_price <- NULL\n",
    "pred_prod_price <- as.data.frame(pred_prod_price)"
   ]
  },
  {
   "cell_type": "code",
   "execution_count": 380,
   "metadata": {},
   "outputs": [],
   "source": [
    "for (i in 1:12) {\n",
    "newdata <- cbind(predict(m1, n.ahead = 12)[i,1], data[(82+i),1], data[(71+i),1])\n",
    "newdata <- as.data.frame(newdata)\n",
    "colnames(newdata) <- c('infl', 'price_prod.l1', 'price_prod.l12')\n",
    "newdata <- cbind(as.data.frame(predict(m4, newdata = newdata)), newdata)\n",
    "colnames(newdata)[1] <- 'prod_price'\n",
    "data <- rbind(data, newdata)\n",
    "}"
   ]
  },
  {
   "cell_type": "code",
   "execution_count": 381,
   "metadata": {},
   "outputs": [
    {
     "data": {
      "image/png": "[encoded data removed]",
      "text/plain": [
       "plot without title"
      ]
     },
     "metadata": {
      "image/png": {
       "height": 420,
       "width": 420
      },
      "text/plain": {
       "height": 420,
       "width": 420
      }
     },
     "output_type": "display_data"
    }
   ],
   "source": [
    "plot(data[,1], t='l', col = 'blue', lwd = 4)\n",
    "lines(data[1:83,1], col = 'red', lwd = 3)"
   ]
  },
  {
   "cell_type": "code",
   "execution_count": 391,
   "metadata": {},
   "outputs": [],
   "source": [
    "first <- read_excel('price.xlsx')"
   ]
  },
  {
   "cell_type": "code",
   "execution_count": 392,
   "metadata": {},
   "outputs": [],
   "source": [
    "first <- first[1,3:4]"
   ]
  },
  {
   "cell_type": "code",
   "execution_count": 616,
   "metadata": {},
   "outputs": [],
   "source": [
    "price <- as.data.frame(price)"
   ]
  },
  {
   "cell_type": "code",
   "execution_count": 617,
   "metadata": {},
   "outputs": [],
   "source": [
    "price$roz1 <- lag(price$`Розничная цена`)"
   ]
  },
  {
   "cell_type": "code",
   "execution_count": 618,
   "metadata": {},
   "outputs": [
    {
     "data": {
      "text/html": [
       "<table>\n",
       "<caption>A data.frame: 6 × 3</caption>\n",
       "<thead>\n",
       "\t<tr><th></th><th scope=col>Розничная цена</th><th scope=col>Цена производителя</th><th scope=col>roz1</th></tr>\n",
       "\t<tr><th></th><th scope=col>&lt;dbl&gt;</th><th scope=col>&lt;dbl&gt;</th><th scope=col>&lt;dbl&gt;</th></tr>\n",
       "</thead>\n",
       "<tbody>\n",
       "\t<tr><th scope=row>1</th><td>0.005704898</td><td> 0.16445416</td><td>0.005704898</td></tr>\n",
       "\t<tr><th scope=row>2</th><td>0.005781309</td><td> 0.20026750</td><td>0.005781309</td></tr>\n",
       "\t<tr><th scope=row>3</th><td>0.007800690</td><td>-0.04906319</td><td>0.007800690</td></tr>\n",
       "\t<tr><th scope=row>4</th><td>0.006883228</td><td> 0.12642534</td><td>0.006883228</td></tr>\n",
       "\t<tr><th scope=row>5</th><td>0.007368286</td><td>-0.10880916</td><td>0.007368286</td></tr>\n",
       "\t<tr><th scope=row>6</th><td>0.005623059</td><td> 0.12475695</td><td>0.005623059</td></tr>\n",
       "</tbody>\n",
       "</table>\n"
      ],
      "text/latex": [
       "A data.frame: 6 × 3\n",
       "\\begin{tabular}{r|lll}\n",
       "  & Розничная цена & Цена производителя & roz1\\\\\n",
       "  & <dbl> & <dbl> & <dbl>\\\\\n",
       "\\hline\n",
       "\t1 & 0.005704898 &  0.16445416 & 0.005704898\\\\\n",
       "\t2 & 0.005781309 &  0.20026750 & 0.005781309\\\\\n",
       "\t3 & 0.007800690 & -0.04906319 & 0.007800690\\\\\n",
       "\t4 & 0.006883228 &  0.12642534 & 0.006883228\\\\\n",
       "\t5 & 0.007368286 & -0.10880916 & 0.007368286\\\\\n",
       "\t6 & 0.005623059 &  0.12475695 & 0.005623059\\\\\n",
       "\\end{tabular}\n"
      ],
      "text/markdown": [
       "\n",
       "A data.frame: 6 × 3\n",
       "\n",
       "| <!--/--> | Розничная цена &lt;dbl&gt; | Цена производителя &lt;dbl&gt; | roz1 &lt;dbl&gt; |\n",
       "|---|---|---|---|\n",
       "| 1 | 0.005704898 |  0.16445416 | 0.005704898 |\n",
       "| 2 | 0.005781309 |  0.20026750 | 0.005781309 |\n",
       "| 3 | 0.007800690 | -0.04906319 | 0.007800690 |\n",
       "| 4 | 0.006883228 |  0.12642534 | 0.006883228 |\n",
       "| 5 | 0.007368286 | -0.10880916 | 0.007368286 |\n",
       "| 6 | 0.005623059 |  0.12475695 | 0.005623059 |\n",
       "\n"
      ],
      "text/plain": [
       "  Розничная цена Цена производителя roz1       \n",
       "1 0.005704898     0.16445416        0.005704898\n",
       "2 0.005781309     0.20026750        0.005781309\n",
       "3 0.007800690    -0.04906319        0.007800690\n",
       "4 0.006883228     0.12642534        0.006883228\n",
       "5 0.007368286    -0.10880916        0.007368286\n",
       "6 0.005623059     0.12475695        0.005623059"
      ]
     },
     "metadata": {},
     "output_type": "display_data"
    }
   ],
   "source": [
    "head(price)"
   ]
  },
  {
   "cell_type": "code",
   "execution_count": 619,
   "metadata": {},
   "outputs": [],
   "source": [
    "m6 <- lm(price$`Розничная цена` ~., data = price)"
   ]
  },
  {
   "cell_type": "code",
   "execution_count": 620,
   "metadata": {},
   "outputs": [
    {
     "name": "stderr",
     "output_type": "stream",
     "text": [
      "Warning message in summary.lm(m6):\n",
      "\"essentially perfect fit: summary may be unreliable\"\n"
     ]
    },
    {
     "data": {
      "text/plain": [
       "\n",
       "Call:\n",
       "lm(formula = price$`Розничная цена` ~ ., data = price)\n",
       "\n",
       "Residuals:\n",
       "       Min         1Q     Median         3Q        Max \n",
       "-1.016e-18 -1.549e-19 -2.267e-20  1.043e-19  2.142e-18 \n",
       "\n",
       "Coefficients:\n",
       "                      Estimate Std. Error   t value Pr(>|t|)    \n",
       "(Intercept)          0.000e+00  5.666e-20 0.000e+00        1    \n",
       "`Цена производителя` 0.000e+00  2.600e-19 0.000e+00        1    \n",
       "roz1                 1.000e+00  5.512e-18 1.814e+17   <2e-16 ***\n",
       "---\n",
       "Signif. codes:  0 '***' 0.001 '**' 0.01 '*' 0.05 '.' 0.1 ' ' 1\n",
       "\n",
       "Residual standard error: 3.991e-19 on 92 degrees of freedom\n",
       "Multiple R-squared:      1,\tAdjusted R-squared:      1 \n",
       "F-statistic: 1.818e+34 on 2 and 92 DF,  p-value: < 2.2e-16\n"
      ]
     },
     "metadata": {},
     "output_type": "display_data"
    }
   ],
   "source": [
    "summary(m6)"
   ]
  },
  {
   "cell_type": "code",
   "execution_count": 621,
   "metadata": {},
   "outputs": [],
   "source": [
    "newdata2 <- cbind(0, data[(83+k),2],price[93+k,3])\n",
    "newdata2 <- as.data.frame(newdata2)\n",
    "colnames(newdata2) <- c('Розничная цена', 'Цена производителя','roz1')"
   ]
  },
  {
   "cell_type": "code",
   "execution_count": 622,
   "metadata": {},
   "outputs": [],
   "source": [
    "for (k in 1:12) {\n",
    "newdata2 <- cbind(predict(m6, newdata2), data[(83+k),2],price[93+k,3])\n",
    "newdata2 <- as.data.frame(newdata2)\n",
    "colnames(newdata2) <- c('Розничная цена', 'Цена производителя','roz1')\n",
    "price <- rbind(price, newdata2)\n",
    "price[94+k,1] <- predict(m6, newdata2)\n",
    "    }"
   ]
  },
  {
   "cell_type": "code",
   "execution_count": 623,
   "metadata": {},
   "outputs": [
    {
     "data": {
      "text/html": [
       "<table>\n",
       "<caption>A data.frame: 107 × 3</caption>\n",
       "<thead>\n",
       "\t<tr><th></th><th scope=col>Розничная цена</th><th scope=col>Цена производителя</th><th scope=col>roz1</th></tr>\n",
       "\t<tr><th></th><th scope=col>&lt;dbl&gt;</th><th scope=col>&lt;dbl&gt;</th><th scope=col>&lt;dbl&gt;</th></tr>\n",
       "</thead>\n",
       "<tbody>\n",
       "\t<tr><th scope=row>1</th><td>0.0057048975</td><td> 0.164454163</td><td>0.0057048975</td></tr>\n",
       "\t<tr><th scope=row>2</th><td>0.0057813087</td><td> 0.200267499</td><td>0.0057813087</td></tr>\n",
       "\t<tr><th scope=row>3</th><td>0.0078006896</td><td>-0.049063189</td><td>0.0078006896</td></tr>\n",
       "\t<tr><th scope=row>4</th><td>0.0068832279</td><td> 0.126425345</td><td>0.0068832279</td></tr>\n",
       "\t<tr><th scope=row>5</th><td>0.0073682858</td><td>-0.108809161</td><td>0.0073682858</td></tr>\n",
       "\t<tr><th scope=row>6</th><td>0.0056230587</td><td> 0.124756951</td><td>0.0056230587</td></tr>\n",
       "\t<tr><th scope=row>7</th><td>0.0077985431</td><td>-0.067167887</td><td>0.0077985431</td></tr>\n",
       "\t<tr><th scope=row>8</th><td>0.0027256543</td><td>-0.008748100</td><td>0.0027256543</td></tr>\n",
       "\t<tr><th scope=row>9</th><td>0.0067818091</td><td>-0.190737743</td><td>0.0067818091</td></tr>\n",
       "\t<tr><th scope=row>10</th><td>0.0030109559</td><td> 0.171896590</td><td>0.0030109559</td></tr>\n",
       "\t<tr><th scope=row>11</th><td>0.0057887282</td><td>-0.049962316</td><td>0.0057887282</td></tr>\n",
       "\t<tr><th scope=row>12</th><td>0.0014419613</td><td>-0.020593462</td><td>0.0014419613</td></tr>\n",
       "\t<tr><th scope=row>13</th><td>0.0050305532</td><td> 0.051206376</td><td>0.0050305532</td></tr>\n",
       "\t<tr><th scope=row>14</th><td>0.0025568922</td><td> 0.033363413</td><td>0.0025568922</td></tr>\n",
       "\t<tr><th scope=row>15</th><td>0.0026522509</td><td>-0.006522789</td><td>0.0026522509</td></tr>\n",
       "\t<tr><th scope=row>16</th><td>0.0013234922</td><td> 0.027677339</td><td>0.0013234922</td></tr>\n",
       "\t<tr><th scope=row>17</th><td>0.0005085694</td><td> 0.037952592</td><td>0.0005085694</td></tr>\n",
       "\t<tr><th scope=row>18</th><td>0.0019302084</td><td>-0.047396291</td><td>0.0019302084</td></tr>\n",
       "\t<tr><th scope=row>19</th><td>0.0027365344</td><td> 0.079528498</td><td>0.0027365344</td></tr>\n",
       "\t<tr><th scope=row>20</th><td>0.0041412109</td><td> 0.030898904</td><td>0.0041412109</td></tr>\n",
       "\t<tr><th scope=row>21</th><td>0.0064302442</td><td> 0.124283937</td><td>0.0064302442</td></tr>\n",
       "\t<tr><th scope=row>22</th><td>0.0133308779</td><td>-0.095331875</td><td>0.0133308779</td></tr>\n",
       "\t<tr><th scope=row>23</th><td>0.0092465738</td><td> 0.164225155</td><td>0.0092465738</td></tr>\n",
       "\t<tr><th scope=row>24</th><td>0.0222704789</td><td> 0.535337109</td><td>0.0222704789</td></tr>\n",
       "\t<tr><th scope=row>25</th><td>0.0083913909</td><td>-0.034749863</td><td>0.0083913909</td></tr>\n",
       "\t<tr><th scope=row>26</th><td>0.0088864264</td><td> 0.067489701</td><td>0.0088864264</td></tr>\n",
       "\t<tr><th scope=row>27</th><td>0.0085282369</td><td> 0.039331247</td><td>0.0085282369</td></tr>\n",
       "\t<tr><th scope=row>28</th><td>0.0109513856</td><td> 0.007588334</td><td>0.0109513856</td></tr>\n",
       "\t<tr><th scope=row>29</th><td>0.0073570315</td><td> 0.012318956</td><td>0.0073570315</td></tr>\n",
       "\t<tr><th scope=row>30</th><td>0.0036583176</td><td>-0.036206557</td><td>0.0036583176</td></tr>\n",
       "\t<tr><th scope=row>...</th><td>...</td><td>...</td><td>...</td></tr>\n",
       "\t<tr><th scope=row>78</th><td> 0.0021541067</td><td> 0.020378728</td><td> 0.0021541067</td></tr>\n",
       "\t<tr><th scope=row>79</th><td> 0.0025556150</td><td> 0.015730832</td><td> 0.0025556150</td></tr>\n",
       "\t<tr><th scope=row>80</th><td>-0.0007543885</td><td> 0.003791035</td><td>-0.0007543885</td></tr>\n",
       "\t<tr><th scope=row>81</th><td> 0.0037662646</td><td>-0.006120439</td><td> 0.0037662646</td></tr>\n",
       "\t<tr><th scope=row>82</th><td> 0.0010404625</td><td> 0.033013838</td><td> 0.0010404625</td></tr>\n",
       "\t<tr><th scope=row>83</th><td> 0.0048987217</td><td>-0.030623728</td><td> 0.0048987217</td></tr>\n",
       "\t<tr><th scope=row>84</th><td>-0.0023599171</td><td> 0.001395605</td><td>-0.0023599171</td></tr>\n",
       "\t<tr><th scope=row>85</th><td> 0.0043127061</td><td> 0.043126254</td><td> 0.0043127061</td></tr>\n",
       "\t<tr><th scope=row>86</th><td> 0.0044084462</td><td>-0.004205788</td><td> 0.0044084462</td></tr>\n",
       "\t<tr><th scope=row>87</th><td> 0.0042184534</td><td> 0.008779336</td><td> 0.0042184534</td></tr>\n",
       "\t<tr><th scope=row>88</th><td> 0.0007392454</td><td>-0.036893931</td><td> 0.0007392454</td></tr>\n",
       "\t<tr><th scope=row>89</th><td> 0.0011930125</td><td> 0.008110151</td><td> 0.0011930125</td></tr>\n",
       "\t<tr><th scope=row>90</th><td> 0.0008512812</td><td>-0.039352250</td><td> 0.0008512812</td></tr>\n",
       "\t<tr><th scope=row>91</th><td> 0.0017570215</td><td>-0.007514865</td><td> 0.0017570215</td></tr>\n",
       "\t<tr><th scope=row>92</th><td> 0.0011884888</td><td>-0.015436774</td><td> 0.0011884888</td></tr>\n",
       "\t<tr><th scope=row>93</th><td> 0.0011305824</td><td> 0.019506971</td><td> 0.0011305824</td></tr>\n",
       "\t<tr><th scope=row>94</th><td> 0.0051842785</td><td> 0.029286369</td><td> 0.0051842785</td></tr>\n",
       "\t<tr><th scope=row>95</th><td> 0.0051842785</td><td> 0.022437404</td><td> 0.0016286191</td></tr>\n",
       "\t<tr><th scope=row>110</th><td> 0.0016286191</td><td> 0.480815049</td><td> 0.0051842785</td></tr>\n",
       "\t<tr><th scope=row>111</th><td> 0.0051842785</td><td> 0.460563101</td><td> 0.0016286191</td></tr>\n",
       "\t<tr><th scope=row>112</th><td> 0.0016286191</td><td> 0.434843255</td><td> 0.0051842785</td></tr>\n",
       "\t<tr><th scope=row>113</th><td> 0.0051842785</td><td> 0.445564858</td><td> 0.0016286191</td></tr>\n",
       "\t<tr><th scope=row>114</th><td> 0.0016286191</td><td> 0.436269953</td><td> 0.0051842785</td></tr>\n",
       "\t<tr><th scope=row>115</th><td> 0.0051842785</td><td> 0.436059589</td><td> 0.0016286191</td></tr>\n",
       "\t<tr><th scope=row>116</th><td> 0.0016286191</td><td> 0.436047310</td><td> 0.0051842785</td></tr>\n",
       "\t<tr><th scope=row>117</th><td> 0.0051842785</td><td> 0.436046594</td><td> 0.0016286191</td></tr>\n",
       "\t<tr><th scope=row>118</th><td> 0.0016286191</td><td> 0.436046552</td><td> 0.0051842785</td></tr>\n",
       "\t<tr><th scope=row>119</th><td> 0.0051842785</td><td> 0.436046549</td><td> 0.0016286191</td></tr>\n",
       "\t<tr><th scope=row>120</th><td> 0.0016286191</td><td> 0.436046549</td><td> 0.0051842785</td></tr>\n",
       "\t<tr><th scope=row>121</th><td> 0.0051842785</td><td> 0.436046549</td><td> 0.0016286191</td></tr>\n",
       "</tbody>\n",
       "</table>\n"
      ],
      "text/latex": [
       "A data.frame: 107 × 3\n",
       "\\begin{tabular}{r|lll}\n",
       "  & Розничная цена & Цена производителя & roz1\\\\\n",
       "  & <dbl> & <dbl> & <dbl>\\\\\n",
       "\\hline\n",
       "\t1 & 0.0057048975 &  0.164454163 & 0.0057048975\\\\\n",
       "\t2 & 0.0057813087 &  0.200267499 & 0.0057813087\\\\\n",
       "\t3 & 0.0078006896 & -0.049063189 & 0.0078006896\\\\\n",
       "\t4 & 0.0068832279 &  0.126425345 & 0.0068832279\\\\\n",
       "\t5 & 0.0073682858 & -0.108809161 & 0.0073682858\\\\\n",
       "\t6 & 0.0056230587 &  0.124756951 & 0.0056230587\\\\\n",
       "\t7 & 0.0077985431 & -0.067167887 & 0.0077985431\\\\\n",
       "\t8 & 0.0027256543 & -0.008748100 & 0.0027256543\\\\\n",
       "\t9 & 0.0067818091 & -0.190737743 & 0.0067818091\\\\\n",
       "\t10 & 0.0030109559 &  0.171896590 & 0.0030109559\\\\\n",
       "\t11 & 0.0057887282 & -0.049962316 & 0.0057887282\\\\\n",
       "\t12 & 0.0014419613 & -0.020593462 & 0.0014419613\\\\\n",
       "\t13 & 0.0050305532 &  0.051206376 & 0.0050305532\\\\\n",
       "\t14 & 0.0025568922 &  0.033363413 & 0.0025568922\\\\\n",
       "\t15 & 0.0026522509 & -0.006522789 & 0.0026522509\\\\\n",
       "\t16 & 0.0013234922 &  0.027677339 & 0.0013234922\\\\\n",
       "\t17 & 0.0005085694 &  0.037952592 & 0.0005085694\\\\\n",
       "\t18 & 0.0019302084 & -0.047396291 & 0.0019302084\\\\\n",
       "\t19 & 0.0027365344 &  0.079528498 & 0.0027365344\\\\\n",
       "\t20 & 0.0041412109 &  0.030898904 & 0.0041412109\\\\\n",
       "\t21 & 0.0064302442 &  0.124283937 & 0.0064302442\\\\\n",
       "\t22 & 0.0133308779 & -0.095331875 & 0.0133308779\\\\\n",
       "\t23 & 0.0092465738 &  0.164225155 & 0.0092465738\\\\\n",
       "\t24 & 0.0222704789 &  0.535337109 & 0.0222704789\\\\\n",
       "\t25 & 0.0083913909 & -0.034749863 & 0.0083913909\\\\\n",
       "\t26 & 0.0088864264 &  0.067489701 & 0.0088864264\\\\\n",
       "\t27 & 0.0085282369 &  0.039331247 & 0.0085282369\\\\\n",
       "\t28 & 0.0109513856 &  0.007588334 & 0.0109513856\\\\\n",
       "\t29 & 0.0073570315 &  0.012318956 & 0.0073570315\\\\\n",
       "\t30 & 0.0036583176 & -0.036206557 & 0.0036583176\\\\\n",
       "\t... & ... & ... & ...\\\\\n",
       "\t78 &  0.0021541067 &  0.020378728 &  0.0021541067\\\\\n",
       "\t79 &  0.0025556150 &  0.015730832 &  0.0025556150\\\\\n",
       "\t80 & -0.0007543885 &  0.003791035 & -0.0007543885\\\\\n",
       "\t81 &  0.0037662646 & -0.006120439 &  0.0037662646\\\\\n",
       "\t82 &  0.0010404625 &  0.033013838 &  0.0010404625\\\\\n",
       "\t83 &  0.0048987217 & -0.030623728 &  0.0048987217\\\\\n",
       "\t84 & -0.0023599171 &  0.001395605 & -0.0023599171\\\\\n",
       "\t85 &  0.0043127061 &  0.043126254 &  0.0043127061\\\\\n",
       "\t86 &  0.0044084462 & -0.004205788 &  0.0044084462\\\\\n",
       "\t87 &  0.0042184534 &  0.008779336 &  0.0042184534\\\\\n",
       "\t88 &  0.0007392454 & -0.036893931 &  0.0007392454\\\\\n",
       "\t89 &  0.0011930125 &  0.008110151 &  0.0011930125\\\\\n",
       "\t90 &  0.0008512812 & -0.039352250 &  0.0008512812\\\\\n",
       "\t91 &  0.0017570215 & -0.007514865 &  0.0017570215\\\\\n",
       "\t92 &  0.0011884888 & -0.015436774 &  0.0011884888\\\\\n",
       "\t93 &  0.0011305824 &  0.019506971 &  0.0011305824\\\\\n",
       "\t94 &  0.0051842785 &  0.029286369 &  0.0051842785\\\\\n",
       "\t95 &  0.0051842785 &  0.022437404 &  0.0016286191\\\\\n",
       "\t110 &  0.0016286191 &  0.480815049 &  0.0051842785\\\\\n",
       "\t111 &  0.0051842785 &  0.460563101 &  0.0016286191\\\\\n",
       "\t112 &  0.0016286191 &  0.434843255 &  0.0051842785\\\\\n",
       "\t113 &  0.0051842785 &  0.445564858 &  0.0016286191\\\\\n",
       "\t114 &  0.0016286191 &  0.436269953 &  0.0051842785\\\\\n",
       "\t115 &  0.0051842785 &  0.436059589 &  0.0016286191\\\\\n",
       "\t116 &  0.0016286191 &  0.436047310 &  0.0051842785\\\\\n",
       "\t117 &  0.0051842785 &  0.436046594 &  0.0016286191\\\\\n",
       "\t118 &  0.0016286191 &  0.436046552 &  0.0051842785\\\\\n",
       "\t119 &  0.0051842785 &  0.436046549 &  0.0016286191\\\\\n",
       "\t120 &  0.0016286191 &  0.436046549 &  0.0051842785\\\\\n",
       "\t121 &  0.0051842785 &  0.436046549 &  0.0016286191\\\\\n",
       "\\end{tabular}\n"
      ],
      "text/markdown": [
       "\n",
       "A data.frame: 107 × 3\n",
       "\n",
       "| <!--/--> | Розничная цена &lt;dbl&gt; | Цена производителя &lt;dbl&gt; | roz1 &lt;dbl&gt; |\n",
       "|---|---|---|---|\n",
       "| 1 | 0.0057048975 |  0.164454163 | 0.0057048975 |\n",
       "| 2 | 0.0057813087 |  0.200267499 | 0.0057813087 |\n",
       "| 3 | 0.0078006896 | -0.049063189 | 0.0078006896 |\n",
       "| 4 | 0.0068832279 |  0.126425345 | 0.0068832279 |\n",
       "| 5 | 0.0073682858 | -0.108809161 | 0.0073682858 |\n",
       "| 6 | 0.0056230587 |  0.124756951 | 0.0056230587 |\n",
       "| 7 | 0.0077985431 | -0.067167887 | 0.0077985431 |\n",
       "| 8 | 0.0027256543 | -0.008748100 | 0.0027256543 |\n",
       "| 9 | 0.0067818091 | -0.190737743 | 0.0067818091 |\n",
       "| 10 | 0.0030109559 |  0.171896590 | 0.0030109559 |\n",
       "| 11 | 0.0057887282 | -0.049962316 | 0.0057887282 |\n",
       "| 12 | 0.0014419613 | -0.020593462 | 0.0014419613 |\n",
       "| 13 | 0.0050305532 |  0.051206376 | 0.0050305532 |\n",
       "| 14 | 0.0025568922 |  0.033363413 | 0.0025568922 |\n",
       "| 15 | 0.0026522509 | -0.006522789 | 0.0026522509 |\n",
       "| 16 | 0.0013234922 |  0.027677339 | 0.0013234922 |\n",
       "| 17 | 0.0005085694 |  0.037952592 | 0.0005085694 |\n",
       "| 18 | 0.0019302084 | -0.047396291 | 0.0019302084 |\n",
       "| 19 | 0.0027365344 |  0.079528498 | 0.0027365344 |\n",
       "| 20 | 0.0041412109 |  0.030898904 | 0.0041412109 |\n",
       "| 21 | 0.0064302442 |  0.124283937 | 0.0064302442 |\n",
       "| 22 | 0.0133308779 | -0.095331875 | 0.0133308779 |\n",
       "| 23 | 0.0092465738 |  0.164225155 | 0.0092465738 |\n",
       "| 24 | 0.0222704789 |  0.535337109 | 0.0222704789 |\n",
       "| 25 | 0.0083913909 | -0.034749863 | 0.0083913909 |\n",
       "| 26 | 0.0088864264 |  0.067489701 | 0.0088864264 |\n",
       "| 27 | 0.0085282369 |  0.039331247 | 0.0085282369 |\n",
       "| 28 | 0.0109513856 |  0.007588334 | 0.0109513856 |\n",
       "| 29 | 0.0073570315 |  0.012318956 | 0.0073570315 |\n",
       "| 30 | 0.0036583176 | -0.036206557 | 0.0036583176 |\n",
       "| ... | ... | ... | ... |\n",
       "| 78 |  0.0021541067 |  0.020378728 |  0.0021541067 |\n",
       "| 79 |  0.0025556150 |  0.015730832 |  0.0025556150 |\n",
       "| 80 | -0.0007543885 |  0.003791035 | -0.0007543885 |\n",
       "| 81 |  0.0037662646 | -0.006120439 |  0.0037662646 |\n",
       "| 82 |  0.0010404625 |  0.033013838 |  0.0010404625 |\n",
       "| 83 |  0.0048987217 | -0.030623728 |  0.0048987217 |\n",
       "| 84 | -0.0023599171 |  0.001395605 | -0.0023599171 |\n",
       "| 85 |  0.0043127061 |  0.043126254 |  0.0043127061 |\n",
       "| 86 |  0.0044084462 | -0.004205788 |  0.0044084462 |\n",
       "| 87 |  0.0042184534 |  0.008779336 |  0.0042184534 |\n",
       "| 88 |  0.0007392454 | -0.036893931 |  0.0007392454 |\n",
       "| 89 |  0.0011930125 |  0.008110151 |  0.0011930125 |\n",
       "| 90 |  0.0008512812 | -0.039352250 |  0.0008512812 |\n",
       "| 91 |  0.0017570215 | -0.007514865 |  0.0017570215 |\n",
       "| 92 |  0.0011884888 | -0.015436774 |  0.0011884888 |\n",
       "| 93 |  0.0011305824 |  0.019506971 |  0.0011305824 |\n",
       "| 94 |  0.0051842785 |  0.029286369 |  0.0051842785 |\n",
       "| 95 |  0.0051842785 |  0.022437404 |  0.0016286191 |\n",
       "| 110 |  0.0016286191 |  0.480815049 |  0.0051842785 |\n",
       "| 111 |  0.0051842785 |  0.460563101 |  0.0016286191 |\n",
       "| 112 |  0.0016286191 |  0.434843255 |  0.0051842785 |\n",
       "| 113 |  0.0051842785 |  0.445564858 |  0.0016286191 |\n",
       "| 114 |  0.0016286191 |  0.436269953 |  0.0051842785 |\n",
       "| 115 |  0.0051842785 |  0.436059589 |  0.0016286191 |\n",
       "| 116 |  0.0016286191 |  0.436047310 |  0.0051842785 |\n",
       "| 117 |  0.0051842785 |  0.436046594 |  0.0016286191 |\n",
       "| 118 |  0.0016286191 |  0.436046552 |  0.0051842785 |\n",
       "| 119 |  0.0051842785 |  0.436046549 |  0.0016286191 |\n",
       "| 120 |  0.0016286191 |  0.436046549 |  0.0051842785 |\n",
       "| 121 |  0.0051842785 |  0.436046549 |  0.0016286191 |\n",
       "\n"
      ],
      "text/plain": [
       "    Розничная цена Цена производителя roz1         \n",
       "1   0.0057048975    0.164454163       0.0057048975 \n",
       "2   0.0057813087    0.200267499       0.0057813087 \n",
       "3   0.0078006896   -0.049063189       0.0078006896 \n",
       "4   0.0068832279    0.126425345       0.0068832279 \n",
       "5   0.0073682858   -0.108809161       0.0073682858 \n",
       "6   0.0056230587    0.124756951       0.0056230587 \n",
       "7   0.0077985431   -0.067167887       0.0077985431 \n",
       "8   0.0027256543   -0.008748100       0.0027256543 \n",
       "9   0.0067818091   -0.190737743       0.0067818091 \n",
       "10  0.0030109559    0.171896590       0.0030109559 \n",
       "11  0.0057887282   -0.049962316       0.0057887282 \n",
       "12  0.0014419613   -0.020593462       0.0014419613 \n",
       "13  0.0050305532    0.051206376       0.0050305532 \n",
       "14  0.0025568922    0.033363413       0.0025568922 \n",
       "15  0.0026522509   -0.006522789       0.0026522509 \n",
       "16  0.0013234922    0.027677339       0.0013234922 \n",
       "17  0.0005085694    0.037952592       0.0005085694 \n",
       "18  0.0019302084   -0.047396291       0.0019302084 \n",
       "19  0.0027365344    0.079528498       0.0027365344 \n",
       "20  0.0041412109    0.030898904       0.0041412109 \n",
       "21  0.0064302442    0.124283937       0.0064302442 \n",
       "22  0.0133308779   -0.095331875       0.0133308779 \n",
       "23  0.0092465738    0.164225155       0.0092465738 \n",
       "24  0.0222704789    0.535337109       0.0222704789 \n",
       "25  0.0083913909   -0.034749863       0.0083913909 \n",
       "26  0.0088864264    0.067489701       0.0088864264 \n",
       "27  0.0085282369    0.039331247       0.0085282369 \n",
       "28  0.0109513856    0.007588334       0.0109513856 \n",
       "29  0.0073570315    0.012318956       0.0073570315 \n",
       "30  0.0036583176   -0.036206557       0.0036583176 \n",
       "... ...            ...                ...          \n",
       "78   0.0021541067   0.020378728        0.0021541067\n",
       "79   0.0025556150   0.015730832        0.0025556150\n",
       "80  -0.0007543885   0.003791035       -0.0007543885\n",
       "81   0.0037662646  -0.006120439        0.0037662646\n",
       "82   0.0010404625   0.033013838        0.0010404625\n",
       "83   0.0048987217  -0.030623728        0.0048987217\n",
       "84  -0.0023599171   0.001395605       -0.0023599171\n",
       "85   0.0043127061   0.043126254        0.0043127061\n",
       "86   0.0044084462  -0.004205788        0.0044084462\n",
       "87   0.0042184534   0.008779336        0.0042184534\n",
       "88   0.0007392454  -0.036893931        0.0007392454\n",
       "89   0.0011930125   0.008110151        0.0011930125\n",
       "90   0.0008512812  -0.039352250        0.0008512812\n",
       "91   0.0017570215  -0.007514865        0.0017570215\n",
       "92   0.0011884888  -0.015436774        0.0011884888\n",
       "93   0.0011305824   0.019506971        0.0011305824\n",
       "94   0.0051842785   0.029286369        0.0051842785\n",
       "95   0.0051842785   0.022437404        0.0016286191\n",
       "110  0.0016286191   0.480815049        0.0051842785\n",
       "111  0.0051842785   0.460563101        0.0016286191\n",
       "112  0.0016286191   0.434843255        0.0051842785\n",
       "113  0.0051842785   0.445564858        0.0016286191\n",
       "114  0.0016286191   0.436269953        0.0051842785\n",
       "115  0.0051842785   0.436059589        0.0016286191\n",
       "116  0.0016286191   0.436047310        0.0051842785\n",
       "117  0.0051842785   0.436046594        0.0016286191\n",
       "118  0.0016286191   0.436046552        0.0051842785\n",
       "119  0.0051842785   0.436046549        0.0016286191\n",
       "120  0.0016286191   0.436046549        0.0051842785\n",
       "121  0.0051842785   0.436046549        0.0016286191"
      ]
     },
     "metadata": {},
     "output_type": "display_data"
    }
   ],
   "source": [
    "price"
   ]
  },
  {
   "cell_type": "code",
   "execution_count": 624,
   "metadata": {},
   "outputs": [
    {
     "data": {
      "image/png": "[encoded data removed]",
      "text/plain": [
       "plot without title"
      ]
     },
     "metadata": {
      "image/png": {
       "height": 420,
       "width": 420
      },
      "text/plain": {
       "height": 420,
       "width": 420
      }
     },
     "output_type": "display_data"
    }
   ],
   "source": [
    "plot(data$prod_price[83:95], t ='l', col = 'red')\n",
    "lines(price[95:107,1], col = 'blue')"
   ]
  },
  {
   "cell_type": "code",
   "execution_count": 625,
   "metadata": {},
   "outputs": [],
   "source": [
    "prognoz <- cbind(data$prod_price[84:95], price[96:107,1])\n",
    "colnames(prognoz) <- c('Розничная цена', 'Цена производителя')"
   ]
  },
  {
   "cell_type": "code",
   "execution_count": 636,
   "metadata": {},
   "outputs": [],
   "source": [
    "price1 <- read_excel('price.xlsx')"
   ]
  },
  {
   "cell_type": "code",
   "execution_count": 637,
   "metadata": {},
   "outputs": [],
   "source": [
    "price1 <- price1[97,3:4]"
   ]
  },
  {
   "cell_type": "code",
   "execution_count": 638,
   "metadata": {},
   "outputs": [
    {
     "data": {
      "text/html": [
       "<table>\n",
       "<caption>A tibble: 1 × 2</caption>\n",
       "<thead>\n",
       "\t<tr><th scope=col>Розничная цена</th><th scope=col>Цена производителя</th></tr>\n",
       "\t<tr><th scope=col>&lt;dbl&gt;</th><th scope=col>&lt;dbl&gt;</th></tr>\n",
       "</thead>\n",
       "<tbody>\n",
       "\t<tr><td>181.13</td><td>25142.47</td></tr>\n",
       "</tbody>\n",
       "</table>\n"
      ],
      "text/latex": [
       "A tibble: 1 × 2\n",
       "\\begin{tabular}{ll}\n",
       " Розничная цена & Цена производителя\\\\\n",
       " <dbl> & <dbl>\\\\\n",
       "\\hline\n",
       "\t 181.13 & 25142.47\\\\\n",
       "\\end{tabular}\n"
      ],
      "text/markdown": [
       "\n",
       "A tibble: 1 × 2\n",
       "\n",
       "| Розничная цена &lt;dbl&gt; | Цена производителя &lt;dbl&gt; |\n",
       "|---|---|\n",
       "| 181.13 | 25142.47 |\n",
       "\n"
      ],
      "text/plain": [
       "  Розничная цена Цена производителя\n",
       "1 181.13         25142.47          "
      ]
     },
     "metadata": {},
     "output_type": "display_data"
    }
   ],
   "source": [
    "price1"
   ]
  },
  {
   "cell_type": "code",
   "execution_count": 639,
   "metadata": {},
   "outputs": [
    {
     "data": {
      "text/html": [
       "<table>\n",
       "<caption>A matrix: 12 × 2 of type dbl</caption>\n",
       "<thead>\n",
       "\t<tr><th scope=col>Розничная цена</th><th scope=col>Цена производителя</th></tr>\n",
       "</thead>\n",
       "<tbody>\n",
       "\t<tr><td>-0.0004531553</td><td>0.001628619</td></tr>\n",
       "\t<tr><td>-0.0012720371</td><td>0.005184278</td></tr>\n",
       "\t<tr><td> 0.0128558164</td><td>0.001628619</td></tr>\n",
       "\t<tr><td> 0.0056706020</td><td>0.005184278</td></tr>\n",
       "\t<tr><td> 0.0180043989</td><td>0.001628619</td></tr>\n",
       "\t<tr><td> 0.0063636674</td><td>0.005184278</td></tr>\n",
       "\t<tr><td> 0.0184123840</td><td>0.001628619</td></tr>\n",
       "\t<tr><td> 0.0095056408</td><td>0.005184278</td></tr>\n",
       "\t<tr><td> 0.0128729643</td><td>0.001628619</td></tr>\n",
       "\t<tr><td> 0.0050172954</td><td>0.005184278</td></tr>\n",
       "\t<tr><td> 0.0045327394</td><td>0.001628619</td></tr>\n",
       "\t<tr><td> 0.0060382716</td><td>0.005184278</td></tr>\n",
       "</tbody>\n",
       "</table>\n"
      ],
      "text/latex": [
       "A matrix: 12 × 2 of type dbl\n",
       "\\begin{tabular}{ll}\n",
       " Розничная цена & Цена производителя\\\\\n",
       "\\hline\n",
       "\t -0.0004531553 & 0.001628619\\\\\n",
       "\t -0.0012720371 & 0.005184278\\\\\n",
       "\t  0.0128558164 & 0.001628619\\\\\n",
       "\t  0.0056706020 & 0.005184278\\\\\n",
       "\t  0.0180043989 & 0.001628619\\\\\n",
       "\t  0.0063636674 & 0.005184278\\\\\n",
       "\t  0.0184123840 & 0.001628619\\\\\n",
       "\t  0.0095056408 & 0.005184278\\\\\n",
       "\t  0.0128729643 & 0.001628619\\\\\n",
       "\t  0.0050172954 & 0.005184278\\\\\n",
       "\t  0.0045327394 & 0.001628619\\\\\n",
       "\t  0.0060382716 & 0.005184278\\\\\n",
       "\\end{tabular}\n"
      ],
      "text/markdown": [
       "\n",
       "A matrix: 12 × 2 of type dbl\n",
       "\n",
       "| Розничная цена | Цена производителя |\n",
       "|---|---|\n",
       "| -0.0004531553 | 0.001628619 |\n",
       "| -0.0012720371 | 0.005184278 |\n",
       "|  0.0128558164 | 0.001628619 |\n",
       "|  0.0056706020 | 0.005184278 |\n",
       "|  0.0180043989 | 0.001628619 |\n",
       "|  0.0063636674 | 0.005184278 |\n",
       "|  0.0184123840 | 0.001628619 |\n",
       "|  0.0095056408 | 0.005184278 |\n",
       "|  0.0128729643 | 0.001628619 |\n",
       "|  0.0050172954 | 0.005184278 |\n",
       "|  0.0045327394 | 0.001628619 |\n",
       "|  0.0060382716 | 0.005184278 |\n",
       "\n"
      ],
      "text/plain": [
       "      Розничная цена Цена производителя\n",
       " [1,] -0.0004531553  0.001628619       \n",
       " [2,] -0.0012720371  0.005184278       \n",
       " [3,]  0.0128558164  0.001628619       \n",
       " [4,]  0.0056706020  0.005184278       \n",
       " [5,]  0.0180043989  0.001628619       \n",
       " [6,]  0.0063636674  0.005184278       \n",
       " [7,]  0.0184123840  0.001628619       \n",
       " [8,]  0.0095056408  0.005184278       \n",
       " [9,]  0.0128729643  0.001628619       \n",
       "[10,]  0.0050172954  0.005184278       \n",
       "[11,]  0.0045327394  0.001628619       \n",
       "[12,]  0.0060382716  0.005184278       "
      ]
     },
     "metadata": {},
     "output_type": "display_data"
    }
   ],
   "source": [
    "prognoz"
   ]
  },
  {
   "cell_type": "code",
   "execution_count": 640,
   "metadata": {},
   "outputs": [],
   "source": [
    "price1 <- rbind(price1, prognoz)"
   ]
  },
  {
   "cell_type": "code",
   "execution_count": 642,
   "metadata": {},
   "outputs": [],
   "source": [
    "for (i in 2:13) {\n",
    "price1[i,1] <- price1[(i-1),1]*exp(price1[i,1])\n",
    "price1[i,2] <- price1[(i-1),2]*exp(price1[i,2])\n",
    "}"
   ]
  },
  {
   "cell_type": "code",
   "execution_count": 643,
   "metadata": {},
   "outputs": [
    {
     "data": {
      "text/html": [
       "<table>\n",
       "<caption>A tibble: 13 × 2</caption>\n",
       "<thead>\n",
       "\t<tr><th scope=col>Розничная цена</th><th scope=col>Цена производителя</th></tr>\n",
       "\t<tr><th scope=col>&lt;dbl&gt;</th><th scope=col>&lt;dbl&gt;</th></tr>\n",
       "</thead>\n",
       "<tbody>\n",
       "\t<tr><td>181.1300</td><td>25142.47</td></tr>\n",
       "\t<tr><td>181.0479</td><td>25183.45</td></tr>\n",
       "\t<tr><td>180.8178</td><td>25314.35</td></tr>\n",
       "\t<tr><td>183.1574</td><td>25355.61</td></tr>\n",
       "\t<tr><td>184.1989</td><td>25487.40</td></tr>\n",
       "\t<tr><td>187.5453</td><td>25528.94</td></tr>\n",
       "\t<tr><td>188.7426</td><td>25661.64</td></tr>\n",
       "\t<tr><td>192.2500</td><td>25703.46</td></tr>\n",
       "\t<tr><td>194.0862</td><td>25837.06</td></tr>\n",
       "\t<tr><td>196.6008</td><td>25879.18</td></tr>\n",
       "\t<tr><td>197.5897</td><td>26013.69</td></tr>\n",
       "\t<tr><td>198.4873</td><td>26056.09</td></tr>\n",
       "\t<tr><td>199.6895</td><td>26191.52</td></tr>\n",
       "</tbody>\n",
       "</table>\n"
      ],
      "text/latex": [
       "A tibble: 13 × 2\n",
       "\\begin{tabular}{ll}\n",
       " Розничная цена & Цена производителя\\\\\n",
       " <dbl> & <dbl>\\\\\n",
       "\\hline\n",
       "\t 181.1300 & 25142.47\\\\\n",
       "\t 181.0479 & 25183.45\\\\\n",
       "\t 180.8178 & 25314.35\\\\\n",
       "\t 183.1574 & 25355.61\\\\\n",
       "\t 184.1989 & 25487.40\\\\\n",
       "\t 187.5453 & 25528.94\\\\\n",
       "\t 188.7426 & 25661.64\\\\\n",
       "\t 192.2500 & 25703.46\\\\\n",
       "\t 194.0862 & 25837.06\\\\\n",
       "\t 196.6008 & 25879.18\\\\\n",
       "\t 197.5897 & 26013.69\\\\\n",
       "\t 198.4873 & 26056.09\\\\\n",
       "\t 199.6895 & 26191.52\\\\\n",
       "\\end{tabular}\n"
      ],
      "text/markdown": [
       "\n",
       "A tibble: 13 × 2\n",
       "\n",
       "| Розничная цена &lt;dbl&gt; | Цена производителя &lt;dbl&gt; |\n",
       "|---|---|\n",
       "| 181.1300 | 25142.47 |\n",
       "| 181.0479 | 25183.45 |\n",
       "| 180.8178 | 25314.35 |\n",
       "| 183.1574 | 25355.61 |\n",
       "| 184.1989 | 25487.40 |\n",
       "| 187.5453 | 25528.94 |\n",
       "| 188.7426 | 25661.64 |\n",
       "| 192.2500 | 25703.46 |\n",
       "| 194.0862 | 25837.06 |\n",
       "| 196.6008 | 25879.18 |\n",
       "| 197.5897 | 26013.69 |\n",
       "| 198.4873 | 26056.09 |\n",
       "| 199.6895 | 26191.52 |\n",
       "\n"
      ],
      "text/plain": [
       "   Розничная цена Цена производителя\n",
       "1  181.1300       25142.47          \n",
       "2  181.0479       25183.45          \n",
       "3  180.8178       25314.35          \n",
       "4  183.1574       25355.61          \n",
       "5  184.1989       25487.40          \n",
       "6  187.5453       25528.94          \n",
       "7  188.7426       25661.64          \n",
       "8  192.2500       25703.46          \n",
       "9  194.0862       25837.06          \n",
       "10 196.6008       25879.18          \n",
       "11 197.5897       26013.69          \n",
       "12 198.4873       26056.09          \n",
       "13 199.6895       26191.52          "
      ]
     },
     "metadata": {},
     "output_type": "display_data"
    }
   ],
   "source": [
    "price1"
   ]
  },
  {
   "cell_type": "code",
   "execution_count": 650,
   "metadata": {},
   "outputs": [
    {
     "data": {
      "image/png": "[encoded data removed]",
      "text/plain": [
       "plot without title"
      ]
     },
     "metadata": {
      "image/png": {
       "height": 420,
       "width": 420
      },
      "text/plain": {
       "height": 420,
       "width": 420
      }
     },
     "output_type": "display_data"
    },
    {
     "data": {
      "image/png": "[encoded data removed]",
      "text/plain": [
       "plot without title"
      ]
     },
     "metadata": {
      "image/png": {
       "height": 420,
       "width": 420
      },
      "text/plain": {
       "height": 420,
       "width": 420
      }
     },
     "output_type": "display_data"
    }
   ],
   "source": [
    "plot(price1$`Цена производителя`, t = 'l', col = 'red')\n",
    "plot(price1$`Розничная цена`, t ='l', col = 'blue')"
   ]
  },
  {
   "cell_type": "markdown",
   "metadata": {},
   "source": [
    "#### В итоге получили прогноз розничной цены кетчупа, который составлен на основе прогноза цены производителя, которая, в свою очередь, составлена на основе прогноза инфляции, потому что месячные прогнозные данные по ней не найти. "
   ]
  }
 ],
 "metadata": {
  "kernelspec": {
   "display_name": "R",
   "language": "R",
   "name": "ir"
  },
  "language_info": {
   "codemirror_mode": "r",
   "file_extension": ".r",
   "mimetype": "text/x-r-source",
   "name": "R",
   "pygments_lexer": "r",
   "version": "3.6.1"
  }
 },
 "nbformat": 4,
 "nbformat_minor": 4
}
